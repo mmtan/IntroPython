{
  "nbformat": 4,
  "nbformat_minor": 0,
  "metadata": {
    "colab": {
      "provenance": [],
      "collapsed_sections": []
    },
    "kernelspec": {
      "name": "python3",
      "display_name": "Python 3"
    },
    "language_info": {
      "name": "python"
    }
  },
  "cells": [
    {
      "cell_type": "markdown",
      "source": [
        "# CSCI 1200 Introduction to Computers and Programming Fall 2022\n",
        "#### Instructor: Ming Ming Tan, UCAs: TBA\n",
        "### Lab 10, ungraded\n",
        "\n",
        "The purpose of this lab is to:\n",
        "\n",
        "*  Practice writing recursive function\n",
        "* Practice developing your own algorithms to solve more complex problems\n",
        " \n",
        "\n",
        "**This lab is not graded. However, you are asked to submit the lab by following the instructions below.**\n",
        "\n",
        "Please consult with your UCAs during the lab sessions if you need help completing this lab. \n"
      ],
      "metadata": {
        "id": "zrbZT5Z9c892"
      }
    },
    {
      "cell_type": "markdown",
      "source": [
        "# Submission information\n",
        "1. <font color='red'>Before you start working on this lab, rename the file to **“lab10_\\<lastName without space>_\\<first letter of your first name\\>.ipynb”**. For example, a student with last name Smith and first name James will rename “lab10.ipynb” to “lab10_smithJ.ipynb”.</font>\n",
        "2. Before you turn this assignment in, make sure everything runs as expected. Go to the menu bar, click **Runtime -> Restart and run all** and check if your code executes as expected. \n",
        "3. You can discuss with others regarding the assignment but **all work must be your own.**\n",
        "4. Note: There will be interview grading conducted throughout the semester. Selected students will be informed via email regarding the interview grading. Interview grading is when you meet with the instructional staff to discuss a assignment that you have turned in. You will be asked to explain certain aspects of the work you did, how you would go about improving your solution, and other conceptual questions relating to the homework. \n",
        "5. To submit the assignment, do the following: \n",
        "\n",
        "    1. Click File -> Download .ipynb to download the assignment.\n",
        "    2. Submit the downloaded .ipynb file to D2L.\n",
        "\n",
        "\n",
        "It is your responsibility to ensure that your submission follows the procedure detailed above.\n",
        "\n",
        "Please consult your UCAs for any queries regarding the submission procedure.\n"
      ],
      "metadata": {
        "id": "G5ODwsxfdrVQ"
      }
    },
    {
      "cell_type": "markdown",
      "source": [
        "## Practice Question 1: Sum of integers from 1 to n, iteratively\n",
        "\n",
        "Write a function `sum(n)` that takes a positive integer `n` and  returns the sum of integers from 1 to `n`. \n",
        "\n",
        "Idea: \n",
        "1. Set result = 0.\n",
        "2. Iterate i from 1 to n.\n",
        "  At each iteration, add i to result.\n",
        "3. Return result.\n",
        "\n",
        "\n"
      ],
      "metadata": {
        "id": "PDjaCNgEf7V5"
      }
    },
    {
      "cell_type": "code",
      "source": [
        "def sum(n): \n",
        "  "
      ],
      "metadata": {
        "id": "a23T-G2Yeb2e"
      },
      "execution_count": null,
      "outputs": []
    },
    {
      "cell_type": "markdown",
      "source": [
        "## Practice Question 2: Factorial, Iteratively\n",
        "\n",
        "Write a function `factorial(n)` that takes a positive integer `n` and  returns the product of integers from 1 to `n`. \n",
        "\n",
        "Idea: \n",
        "1. Set result = 1.\n",
        "2. Iterate i from 1 to n.\n",
        "  At each iteration, multiply i to result.\n",
        "3. Return result."
      ],
      "metadata": {
        "id": "WuXkPQ8aezhk"
      }
    },
    {
      "cell_type": "code",
      "source": [
        "def factorial(n): \n",
        "  "
      ],
      "metadata": {
        "id": "cygpDO3Xe8Hq"
      },
      "execution_count": null,
      "outputs": []
    },
    {
      "cell_type": "markdown",
      "source": [
        "## Practice Question 3: Factorial, Recursively\n",
        "\n",
        "Write a function `factorial(n)` that takes a positive integer `n` and  returns the product of integers from 1 to `n`. \n",
        "\n",
        "Idea: \n",
        "1. If n is 1, return 1\n",
        "2. Else, return n times factorial(n-1)"
      ],
      "metadata": {
        "id": "O595HAzNe94r"
      }
    },
    {
      "cell_type": "code",
      "source": [
        "def factorial(n): \n",
        "  "
      ],
      "metadata": {
        "id": "P26BUIq_fOlJ"
      },
      "execution_count": null,
      "outputs": []
    },
    {
      "cell_type": "markdown",
      "source": [
        "## Practice Question 4: Sum of integers from 1 to n, Recusively\n",
        "\n",
        "Write a function `sum(n)` that takes a positive integer `n` and  returns the sum of integers from 1 to `n`. \n",
        "\n",
        "Idea: \n",
        "1. if n is 1, return 1\n",
        "2. Else, return n+sum(n-1)\n"
      ],
      "metadata": {
        "id": "DAGd8SOnfTSZ"
      }
    },
    {
      "cell_type": "code",
      "source": [
        "def sum(n): \n",
        "  "
      ],
      "metadata": {
        "id": "D7yjXwGEfQew"
      },
      "execution_count": null,
      "outputs": []
    },
    {
      "cell_type": "markdown",
      "source": [
        "## Practice Question 5: Reading recursive function \n",
        "Consider the following code.\n",
        "\n",
        "```\n",
        "def count(n): \n",
        "  if n==1:\n",
        "    return 1\n",
        "  else: \n",
        "    return 1+count(n-1)\n",
        "```\n",
        "\n",
        "What is the output of \n",
        "\n",
        "(1) `count(1)`\n",
        "\n",
        "(2) `count(2)`\n",
        "\n",
        "(3) `count(3)`\n",
        "\n",
        "(4) `count(4)`\n",
        "\n",
        "(5) `count(n)` for any positive integer `n`\n",
        "\n",
        "Write your answer as comment. "
      ],
      "metadata": {
        "id": "ny59cA2TgxKR"
      }
    },
    {
      "cell_type": "code",
      "source": [
        "# Practice Question 5\n"
      ],
      "metadata": {
        "id": "MzRAS9vehYz7"
      },
      "execution_count": null,
      "outputs": []
    },
    {
      "cell_type": "markdown",
      "source": [
        "## Practice Question 6a: Recursion Error\n",
        "Consider the following code. What is the output of `sumEven(4)`?\n",
        "\n",
        "```\n",
        "def sumEven(n): \n",
        "  # return the sum of even integers from 1 to n\n",
        "  if n%2==0: \n",
        "    return n + sumEven(n-1)\n",
        "  else: \n",
        "    return sumEven(n-1)\n",
        "```\n",
        "\n",
        "Write your answer as comment. \n",
        "If the execution of `sumEven(4)` results in RecusionError, explain why. "
      ],
      "metadata": {
        "id": "v_By4uk5gZ22"
      }
    },
    {
      "cell_type": "code",
      "source": [
        "# Practice Question 6a\n"
      ],
      "metadata": {
        "id": "MK56gBz0gXno"
      },
      "execution_count": null,
      "outputs": []
    },
    {
      "cell_type": "markdown",
      "source": [
        "## Practice Question 6b: SumEven \n",
        "Complete the following function `sumEven(n)` that takes a positive integer `n` and returns the sum of even integers from 1 to `n`.  \n",
        "```\n",
        "def sumEven(n): \n",
        "  # return the sum of even integers from 1 to n\n",
        "  if ______: \n",
        "    return ____\n",
        "  if n%2==0: \n",
        "    return n + sumEven(n-1)\n",
        "  else: \n",
        "    return sumEven(n-1)\n",
        "```"
      ],
      "metadata": {
        "id": "dipkfJx64Nox"
      }
    },
    {
      "cell_type": "code",
      "source": [
        "# Practice Question 6b\n"
      ],
      "metadata": {
        "id": "eMX99ov24Qa3"
      },
      "execution_count": null,
      "outputs": []
    },
    {
      "cell_type": "markdown",
      "source": [
        "## Practice Question 7a: Recursion Error\n",
        "Consider the following code. What is the output of `sumEven_improved(4)`?\n",
        "\n",
        "```\n",
        "def sumEven_improved(n): \n",
        "  # return the sum of even integers from 1 to n\n",
        "  if n==1: \n",
        "    return 0\n",
        "  if n%2==0: \n",
        "    return n + sumEven(n-2)\n",
        "  else: \n",
        "    return sumEven(n-1)\n",
        "```\n",
        "\n",
        "Write your answer as comment. \n",
        "If the execution of `sumEven(4)` results in RecusionError, explain why. "
      ],
      "metadata": {
        "id": "UriaG-ynp_gS"
      }
    },
    {
      "cell_type": "code",
      "source": [
        "# Practice Question 7a\n"
      ],
      "metadata": {
        "id": "VimFctLRfzPi"
      },
      "execution_count": null,
      "outputs": []
    },
    {
      "cell_type": "markdown",
      "source": [
        "## Practice Question 7b: SumEven_improved\n",
        "Complete the following function `sumEven_improved(n)` that takes a positive integer `n` and returns the sum of even integers from 1 to `n`.  \n",
        "```\n",
        "def sumEven_improved(n): \n",
        "  # return the sum of even integers from 1 to n\n",
        "  if ______: \n",
        "    return ____\n",
        "  if n%2==0: \n",
        "    return n + sumEven(n-2)\n",
        "  else: \n",
        "    return sumEven(n-1)\n",
        "```"
      ],
      "metadata": {
        "id": "FGkJBgIWqEZT"
      }
    },
    {
      "cell_type": "code",
      "source": [
        "# Practice Question 7b\n"
      ],
      "metadata": {
        "id": "LvP7FYPCgGB1"
      },
      "execution_count": null,
      "outputs": []
    },
    {
      "cell_type": "markdown",
      "source": [
        "## Practice Question 8a: Fibonacci, recusively\n",
        "Write a function `fib(n)` that takes a positive integer `n` and returns Fibonacci of `n`, where `fib(n)` is defined  as follows: \n",
        "\n",
        "* `fib(n)` is 1 if `n` is 0 or 1. \n",
        "* `fib(n)` is `fib(n-2)+fib(n-1)` if `n` is greater than 1. \n"
      ],
      "metadata": {
        "id": "PDYEoS-K4yic"
      }
    },
    {
      "cell_type": "code",
      "source": [
        "def fib(n): \n",
        "    "
      ],
      "metadata": {
        "id": "ywd5NQNE7Hnn"
      },
      "execution_count": null,
      "outputs": []
    },
    {
      "cell_type": "code",
      "source": [
        "# Create your own test cases"
      ],
      "metadata": {
        "id": "SwnHlvEf7L9u"
      },
      "execution_count": null,
      "outputs": []
    },
    {
      "cell_type": "markdown",
      "source": [
        "## Practice Question 8b: Analyze the number of recursive calls\n",
        "Using the function `fib` in Practice Question 8a to compute `fib(5)`. \n",
        "How many times does it compute the value of `fib(2)` on the way to computing `fib(5)`?\n",
        "\n",
        "Write your answers as comments. \n"
      ],
      "metadata": {
        "id": "V731_73D7wBz"
      }
    },
    {
      "cell_type": "code",
      "source": [
        "# Practice Question 8b"
      ],
      "metadata": {
        "id": "czHZB8J18PqW"
      },
      "execution_count": null,
      "outputs": []
    },
    {
      "cell_type": "markdown",
      "source": [
        "## Practice Question 8c: Fibonacci, iteratively\n",
        "\n",
        "Write a function `fib(n)` that takes a positive integer `n` and returns Fibonacci of `n`. \n",
        "\n",
        "Observation: To compute `fib(n`), we only need to keep track of the last two values in the Fibonacci sequence.  \n",
        "\n",
        "Idea: Generate the n sequence of Fibonacci integers iteratively, keeping track of the last two values generated in each iteration.\n",
        "\n",
        "1. If `n` is 0 or 1, return 1\n",
        "2. Set `f1`, `f2` to be both 1. \n",
        "3. Iterate `i` from 2 to `n`.  \n",
        "    At each iteration, set `f3` = `f1+f2`. Assign the value of `f2` to `f1` and the value of `f3` to `f2`. \n",
        "4. Return `f2`. \n"
      ],
      "metadata": {
        "id": "Gp06_39G45Cq"
      }
    },
    {
      "cell_type": "code",
      "source": [
        "def fib(n): \n",
        "    "
      ],
      "metadata": {
        "id": "2hN7Dg3wrNdi"
      },
      "execution_count": null,
      "outputs": []
    },
    {
      "cell_type": "code",
      "source": [
        "# Create your own test cases"
      ],
      "metadata": {
        "id": "vjLBBBX57PSQ"
      },
      "execution_count": null,
      "outputs": []
    },
    {
      "cell_type": "markdown",
      "source": [
        "### Practice Quesion 9a: Binary search for an element in a list, recursively\n",
        "\n",
        "Write a Python function `binary_search` that implements the binary search on a sorted list. The function takes an input list `L` of numbers, a number `x` and returns `True` if `x` is in `L`. \n",
        "\n",
        "Assume the input list is non-empty and is sorted in non-decreasing order. \n",
        "\n",
        "Requirement: You are asked to implement binary search using *recursion*. You are not allowed to use `x in L` or others built-in functios such as `find`,`index`, `count` etc."
      ],
      "metadata": {
        "id": "G70ZCi-45DEF"
      }
    },
    {
      "cell_type": "code",
      "source": [
        "def binary_search(x, L): \n",
        "   "
      ],
      "metadata": {
        "id": "p6W0UYVt7XI3"
      },
      "execution_count": null,
      "outputs": []
    },
    {
      "cell_type": "code",
      "source": [
        "# Create your own test cases"
      ],
      "metadata": {
        "id": "amKsyIRq7Yj-"
      },
      "execution_count": null,
      "outputs": []
    },
    {
      "cell_type": "markdown",
      "source": [
        "### Practice Quesion 9b: Recap: Binary search for an element in a list, iteratively\n",
        "\n",
        "Write a Python function `binary_search` that implements the binary search on a sorted list. The function takes an input list `L` of numbers, a number `x` and returns `True` if `x` is in `L`. \n",
        "\n",
        "Assume the input list is non-empty and is sorted in non-decreasing order. \n",
        "\n",
        "Requirement: You are asked to implement binary search. You are not allowed to use `x in L` or others built-in functios such as `find`,`index`, `count` etc."
      ],
      "metadata": {
        "id": "LQ5jXDEa5Ezw"
      }
    },
    {
      "cell_type": "code",
      "source": [
        "def binary_search(x,L):\n",
        "  "
      ],
      "metadata": {
        "id": "g-hlbTAZ7aPj"
      },
      "execution_count": null,
      "outputs": []
    },
    {
      "cell_type": "code",
      "source": [
        "# Create your own test cases"
      ],
      "metadata": {
        "id": "1OQ-qME8yvdW"
      },
      "execution_count": null,
      "outputs": []
    }
  ]
}