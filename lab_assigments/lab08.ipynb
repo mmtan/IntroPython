{
  "nbformat": 4,
  "nbformat_minor": 0,
  "metadata": {
    "colab": {
      "provenance": [],
      "collapsed_sections": []
    },
    "kernelspec": {
      "name": "python3",
      "display_name": "Python 3"
    },
    "language_info": {
      "name": "python"
    }
  },
  "cells": [
    {
      "cell_type": "markdown",
      "source": [
        "# CSCI 1200 Introduction to Computers and Programming Fall 2022\n",
        "#### Instructor: Ming Ming Tan, UCAs: TBA\n",
        "### Lab 8, ungraded\n",
        "\n",
        "The purpose of this lab is to:\n",
        "\n",
        "* Be comfortable calling functions from within other functions.\n",
        "* Be comfortable calling methods.\n",
        " \n",
        "\n",
        "**This lab is not graded. However, you are asked to submit the lab by following the instructions below.**\n",
        "\n",
        "Please consult with your UCAs during the lab sessions if you need help completing this lab. \n"
      ],
      "metadata": {
        "id": "zrbZT5Z9c892"
      }
    },
    {
      "cell_type": "markdown",
      "source": [
        "# Submission information\n",
        "1. <font color='red'>Before you start working on this lab, rename the file to **“lab08_\\<lastName without space>_\\<first letter of your first name\\>.ipynb”**. For example, a student with last name Smith and first name James will rename “lab08.ipynb” to “lab08_smithJ.ipynb”.</font>\n",
        "2. Before you turn this assignment in, make sure everything runs as expected. Go to the menu bar, click **Runtime -> Restart and run all** and check if your code executes as expected. \n",
        "3. You can discuss with others regarding the assignment but **all work must be your own.**\n",
        "4. Note: There will be interview grading conducted throughout the semester. Selected students will be informed via email regarding the interview grading. Interview grading is when you meet with the instructional staff to discuss a assignment that you have turned in. You will be asked to explain certain aspects of the work you did, how you would go about improving your solution, and other conceptual questions relating to the homework. \n",
        "5. To submit the assignment, do the following: \n",
        "\n",
        "    1. Click File -> Download .ipynb to download the assignment.\n",
        "    2. Submit the downloaded .ipynb file to D2L.\n",
        "\n",
        "\n",
        "It is your responsibility to ensure that your submission follows the procedure detailed above.\n",
        "\n",
        "Please consult your UCAs for any queries regarding the submission procedure.\n"
      ],
      "metadata": {
        "id": "G5ODwsxfdrVQ"
      }
    },
    {
      "cell_type": "markdown",
      "source": [
        "## Practice Question 1: Recap on function \n",
        "\n",
        "Consider the following function \n",
        "\n",
        "```\n",
        "def is_even(n): \n",
        "    \"\"\"\n",
        "    input: n is an integer\n",
        "    output: True or False\n",
        "    Output is True if n is even.\n",
        "    \"\"\"\n",
        "    return n%2==0\n",
        "```\n",
        "\n",
        "\n",
        "\n",
        "1.   What is the name of the function? \n",
        "2.   How many parameters does the function have? What are the parameters? \n",
        "3.   Can you identify from the docstring (docstring should describe what the function does), what are the types of input values and output values? \n",
        "4.   Does this function has a return value? \n",
        "\n",
        "Write your answers as comments. \n",
        "\n",
        "\n"
      ],
      "metadata": {
        "id": "PDjaCNgEf7V5"
      }
    },
    {
      "cell_type": "code",
      "source": [
        "# Practice Question 1.1\n",
        "\n",
        "# Practice Question 1.2\n",
        "\n",
        "# Practice Question 1.3\n",
        "\n",
        "# Practice Question 1.4\n"
      ],
      "metadata": {
        "id": "jLRxIjkPgV32"
      },
      "execution_count": null,
      "outputs": []
    },
    {
      "cell_type": "markdown",
      "source": [
        "## Practice Question 2: Recap on function \n",
        "\n",
        "Consider the following function \n",
        "\n",
        "```\n",
        "def smaller(a,b): \n",
        "    \"\"\"\n",
        "    input: a and b are integers\n",
        "    output: display the smaller of the two integers\n",
        "    \"\"\"\n",
        "    if a<b: \n",
        "      print(a) \n",
        "    else: \n",
        "      print(b)\n",
        "```\n",
        "\n",
        "\n",
        "\n",
        "1.   What is the name of the function? \n",
        "2.   How many parameters does the function have? What are the parameters? \n",
        "3.   Can you identify from the docstring (docstring should describe what the function does), what are the types of input values and output values? \n",
        "4.   Does this function has a return value? \n",
        "\n",
        "Write your answers as comments. \n"
      ],
      "metadata": {
        "id": "dH-XqmULindL"
      }
    },
    {
      "cell_type": "code",
      "source": [
        "# Practice Question 2.1\n",
        "\n",
        "# Practice Question 2.2\n",
        "\n",
        "# Practice Question 2.3\n",
        "\n",
        "# Practice Question 2.4\n"
      ],
      "metadata": {
        "id": "BhI8RHkmiVVQ"
      },
      "execution_count": null,
      "outputs": []
    },
    {
      "cell_type": "markdown",
      "source": [
        "## Practice Question 3: Parameters\n",
        "\n",
        "Consider the following function \n",
        "```\n",
        "def subtraction(x,y): \n",
        "  return x-y\n",
        "\n",
        "```\n",
        "\n",
        "What is the output of \n",
        "1. `subtraction(2,3)`\n",
        "2. `subtraction(3,2)`\n",
        "\n",
        "\n",
        "Write your answers as comments. "
      ],
      "metadata": {
        "id": "c_do6ziWjWya"
      }
    },
    {
      "cell_type": "code",
      "source": [
        "# Practice Question 3.1\n",
        "\n",
        "# Practice Question 3.2\n"
      ],
      "metadata": {
        "id": "v82eZABakWWt"
      },
      "execution_count": null,
      "outputs": []
    },
    {
      "cell_type": "markdown",
      "source": [
        "## Practice Question 4: Default Parameters\n",
        "\n",
        "Consider the following function \n",
        "```\n",
        "def subtraction(x,y=0): \n",
        "  return x-y\n",
        "\n",
        "```\n",
        "\n",
        "What is the output of \n",
        "1. `subtraction(2,3)`\n",
        "2. `subtraction(2)`\n",
        "3. `subtraction(3)`\n",
        "\n",
        "\n",
        "Write your answers as comments. "
      ],
      "metadata": {
        "id": "7604Qv3olVEm"
      }
    },
    {
      "cell_type": "code",
      "source": [
        "# Practice Question 4.1\n",
        "\n",
        "# Practice Question 4.2\n",
        "\n",
        "# Practice Question 4.3\n"
      ],
      "metadata": {
        "id": "hUPhIlMclaIF"
      },
      "execution_count": null,
      "outputs": []
    },
    {
      "cell_type": "markdown",
      "source": [
        "## Practice Question 5a: Variable Scope\n",
        "\n",
        "Implement the following code\n",
        "```\n",
        "def increment(x): \n",
        "    return x+1\n",
        "y = increment(3)\n",
        "print(\"The value of x is\", x))\n",
        "```\n",
        "\n",
        "What is the value of `y`? What would be display as the value of x? (If there will be an error displayed instead, indicate why)\n",
        "\n",
        "\n",
        "Write your answers as comments. "
      ],
      "metadata": {
        "id": "ZTVDwmLjl2fL"
      }
    },
    {
      "cell_type": "code",
      "source": [
        "# Practice Question 5a\n"
      ],
      "metadata": {
        "id": "-pxkyRnxmDr-"
      },
      "execution_count": null,
      "outputs": []
    },
    {
      "cell_type": "markdown",
      "source": [
        "## Practice Question 5b: Variable Scope\n",
        "Consider the following code\n",
        "```\n",
        "def increment(x): \n",
        "    x=x+1\n",
        "    return x\n",
        "x= 3\n",
        "y=increment(x)\n",
        "print(\"The value of x is\", x))\n",
        "```\n",
        "\n",
        "What is the value of `y`? What would be display as the value of x? (If there will be an error displayed instead, indicate why)\n",
        "\n",
        "\n",
        "Write your answers as comments. "
      ],
      "metadata": {
        "id": "_wtjsdzWmRRB"
      }
    },
    {
      "cell_type": "code",
      "source": [
        "# Practice Question 5b\n"
      ],
      "metadata": {
        "id": "p0paag_ZmLFI"
      },
      "execution_count": null,
      "outputs": []
    },
    {
      "cell_type": "markdown",
      "source": [
        "## Practice Question 6a: Variable Scope\n",
        "Consider the following code\n",
        "```\n",
        "def area(r): \n",
        "    return pi*r**2\n",
        "```\n",
        "What is the value of `area(3)`? (If there is an error, indicate what is the error)"
      ],
      "metadata": {
        "id": "Hhi5EgmPmwgR"
      }
    },
    {
      "cell_type": "code",
      "source": [
        "# Practice Question 6a\n"
      ],
      "metadata": {
        "id": "twIMz9FOpDDm"
      },
      "execution_count": null,
      "outputs": []
    },
    {
      "cell_type": "markdown",
      "source": [
        "## Practice Question 6b: Variable Scope\n",
        "Consider the following code\n",
        "```\n",
        "def area(r): \n",
        "    pi = 3.14\n",
        "    return pi*r**2\n",
        "```\n",
        "What is the value of `area(3)`? (If there is an error, indicate what is the error)"
      ],
      "metadata": {
        "id": "IHSejDu3qbo6"
      }
    },
    {
      "cell_type": "code",
      "source": [
        "# Practice Question 6b\n"
      ],
      "metadata": {
        "id": "nwgQ_ycQqaFs"
      },
      "execution_count": null,
      "outputs": []
    },
    {
      "cell_type": "markdown",
      "source": [
        "## Practice Question 6c: Variable Scope\n",
        "Consider the following code\n",
        "```\n",
        "def area(r): \n",
        "    return pi*r**2\n",
        "pi = 3.14\n",
        "```\n",
        "What is the value of `area(3)`? (If there is an error, indicate what is the error)"
      ],
      "metadata": {
        "id": "NWFB5Sxqqg9E"
      }
    },
    {
      "cell_type": "code",
      "source": [
        "# Practice Question 6c\n"
      ],
      "metadata": {
        "id": "M5Echgg6q6zb"
      },
      "execution_count": null,
      "outputs": []
    },
    {
      "cell_type": "markdown",
      "source": [
        "## Practice Question 6d: Variable Scope\n",
        "Consider the following code\n",
        "```\n",
        "def area(r): \n",
        "    pi+=0.00159 \n",
        "    return pi*r**2\n",
        "pi = 3.14\n",
        "```\n",
        "What is the value of `area(3)`? (If there is an error, indicate what is the error)"
      ],
      "metadata": {
        "id": "xxXw8Zwp-e4v"
      }
    },
    {
      "cell_type": "code",
      "source": [
        "# Practice Question 6d\n"
      ],
      "metadata": {
        "id": "-OY2pC_E-ivk"
      },
      "execution_count": null,
      "outputs": []
    },
    {
      "cell_type": "markdown",
      "source": [
        "## Practice Question 6e: Variable Scope\n",
        "Consider the following code\n",
        "```\n",
        "def area(r): \n",
        "    global pi\n",
        "    pi+=0.00159 \n",
        "    return pi*r**2\n",
        "pi = 3.14\n",
        "```\n",
        "What is the value of `area(3)`? (If there is an error, indicate what is the error)"
      ],
      "metadata": {
        "id": "vqugH9jDpX2N"
      }
    },
    {
      "cell_type": "code",
      "source": [
        "# Practice Question 6e\n"
      ],
      "metadata": {
        "id": "0bT81oWKrF7Y"
      },
      "execution_count": null,
      "outputs": []
    },
    {
      "cell_type": "markdown",
      "source": [
        "## Practice Question 7: Decimal to Hexadecimal (calling function within a function)\n",
        "\n",
        "In the following function\n",
        "```\n",
        "def dec2hex(x): \n",
        "  b = \"\"\n",
        "  while x>0: \n",
        "    b = int2str(x%16) + b\n",
        "    x = x//16\n",
        "  return b\n",
        "```\n",
        " `dec2hex(x)`  converts the input `x` from decimal to hexadecimal. \n",
        "\n",
        "Inside this function, it will invoke/call another function `int2str`.\n",
        "Write the function `int2str(x)` that satisfies the following specification:\n",
        "```\n",
        "def int2str(d): \n",
        "    '''\n",
        "    Input d is an integer\n",
        "    Output the string represented by d\n",
        "    0 -> \"0\"\n",
        "    1 -> \"1\"\n",
        "    ...\n",
        "    10-> \"A\"\n",
        "    11-> \"B\"\n",
        "    ...\n",
        "    '''\n",
        "```"
      ],
      "metadata": {
        "id": "nKnqFIr8rwUo"
      }
    },
    {
      "cell_type": "code",
      "source": [
        "def int2str(d): \n",
        "  '''\n",
        "  Input d is an integer\n",
        "  Output the string represented by d\n",
        "  0 -> \"0\"\n",
        "  1 -> \"1\"\n",
        "  ...\n",
        "  10-> \"A\"\n",
        "  11-> \"B\"\n",
        "  ...\n",
        "  '''\n",
        "  "
      ],
      "metadata": {
        "id": "A-taVhcUsipF"
      },
      "execution_count": null,
      "outputs": []
    },
    {
      "cell_type": "code",
      "source": [
        "def dec2hex(x): \n",
        "  b = \"\"\n",
        "  while x>0: \n",
        "    b = int2str(x%16) + b\n",
        "    x = x//16\n",
        "  return b"
      ],
      "metadata": {
        "id": "wK2hT-30slqZ"
      },
      "execution_count": null,
      "outputs": []
    },
    {
      "cell_type": "code",
      "source": [
        "dec2hex(12648430) == 'C0FFEE'"
      ],
      "metadata": {
        "id": "K2qBNB67ssuY",
        "colab": {
          "base_uri": "https://localhost:8080/"
        },
        "outputId": "d5002918-3a2e-4c08-d50e-16c1393a6de7"
      },
      "execution_count": null,
      "outputs": [
        {
          "output_type": "execute_result",
          "data": {
            "text/plain": [
              "True"
            ]
          },
          "metadata": {},
          "execution_count": 10
        }
      ]
    },
    {
      "cell_type": "code",
      "source": [
        "dec2hex(42) == '2A'"
      ],
      "metadata": {
        "id": "E3xTaAIbszFb",
        "colab": {
          "base_uri": "https://localhost:8080/"
        },
        "outputId": "e7cd8239-d0bb-40b6-91fb-33d63820e810"
      },
      "execution_count": null,
      "outputs": [
        {
          "output_type": "execute_result",
          "data": {
            "text/plain": [
              "True"
            ]
          },
          "metadata": {},
          "execution_count": 11
        }
      ]
    },
    {
      "cell_type": "markdown",
      "source": [
        "## Practice Question 8a: Using methods\n",
        "\n",
        "Consider the string `text = \"CSCI1200`. What are the outputs of: \n",
        "\n",
        "(1) `text.find(\"C\")`\n",
        "\n",
        "(2) `text.count(\"C\")`\n",
        "\n",
        "\n"
      ],
      "metadata": {
        "id": "Z9QUPgeGs9yj"
      }
    },
    {
      "cell_type": "code",
      "source": [
        "# Practice Question 8a.1\n",
        "\n",
        "# Practice Question 8a.2\n"
      ],
      "metadata": {
        "id": "znLiwqhFuckU"
      },
      "execution_count": null,
      "outputs": []
    },
    {
      "cell_type": "markdown",
      "source": [
        "## Practice Question 8b: Using methods\n",
        "\n",
        "Write a function `index` that takes strings `text` and `sub` and returns the first index of `sub` in `text`. If `sub` is not in `text`, returns -1. \n",
        "\n",
        "Requirement: Use the method `find`. "
      ],
      "metadata": {
        "id": "aXkxewOjucMJ"
      }
    },
    {
      "cell_type": "code",
      "source": [
        "def index(text, sub): \n",
        "  "
      ],
      "metadata": {
        "id": "-50iGE2Sub7a"
      },
      "execution_count": null,
      "outputs": []
    },
    {
      "cell_type": "code",
      "source": [
        "index(\"abcd\", \"b\") == 1"
      ],
      "metadata": {
        "id": "1RZXmKkc_NQd"
      },
      "execution_count": null,
      "outputs": []
    },
    {
      "cell_type": "code",
      "source": [
        "index(\"abcd\", \"e\") == -1"
      ],
      "metadata": {
        "id": "w9GkNbDy_XZI"
      },
      "execution_count": null,
      "outputs": []
    },
    {
      "cell_type": "markdown",
      "source": [
        "## Practice Question 8c: Using methods\n",
        "\n",
        "Write a function `index` that takes strings `text` and `sub` and returns the first index of `sub` in `text`. If `sub` is not in `text`, returns None.\n",
        "\n",
        "Requirement: Use the method `find`. "
      ],
      "metadata": {
        "id": "bN5wQMNMuodw"
      }
    },
    {
      "cell_type": "code",
      "source": [
        "def index(text, sub): \n",
        "  "
      ],
      "metadata": {
        "id": "flYXyH8DvUwE"
      },
      "execution_count": null,
      "outputs": []
    },
    {
      "cell_type": "code",
      "source": [
        "index(\"abcd\", \"b\") == 1"
      ],
      "metadata": {
        "id": "Fw3xWK9vQP5Z"
      },
      "execution_count": null,
      "outputs": []
    },
    {
      "cell_type": "code",
      "source": [
        "index(\"abcd\", \"e\") ==  None"
      ],
      "metadata": {
        "id": "mMmGsbQvQP5Z"
      },
      "execution_count": null,
      "outputs": []
    },
    {
      "cell_type": "markdown",
      "source": [
        "## Practice Question 9: Find Last\n",
        "\n",
        "Use the string method `find` to implement a function satisfying the specification\n",
        "\n",
        "```\n",
        "def find_last(s, sub): \n",
        "  \"\"\"\n",
        "  Input s is a non-empty string.\n",
        "  Input sub is a string with length one. \n",
        "  Returns the (positive) index of the last occurrence of sub in s.\n",
        "  Returns -1 if sub does not occur in s\n",
        "  \"\"\n",
        "\n",
        "```"
      ],
      "metadata": {
        "id": "STYpNvtiupuh"
      }
    },
    {
      "cell_type": "code",
      "source": [
        "def find_last(s,sub): \n",
        "  \"\"\"\n",
        "  Input s is a non-empty string.\n",
        "  Input sub is a string with length one. \n",
        "  Returns the (positive) index of the last occurrence of sub in s.\n",
        "  Returns -1 if sub does not occur in s\n",
        "  \"\"\"\n",
        " "
      ],
      "metadata": {
        "id": "Z6787POayw-S"
      },
      "execution_count": null,
      "outputs": []
    },
    {
      "cell_type": "code",
      "source": [
        "find_last(\"abcabc\", \"a\")==3"
      ],
      "metadata": {
        "id": "a7Pl8Nk3FcEC"
      },
      "execution_count": null,
      "outputs": []
    },
    {
      "cell_type": "code",
      "source": [
        "find_last(\"abcabc\", \"d\")==-1"
      ],
      "metadata": {
        "id": "TgzFvCaFFh8_"
      },
      "execution_count": null,
      "outputs": []
    },
    {
      "cell_type": "code",
      "source": [
        "find_last(\"abc\", \"b\")==1"
      ],
      "metadata": {
        "id": "dj1m81laFj-i"
      },
      "execution_count": null,
      "outputs": []
    }
  ]
}