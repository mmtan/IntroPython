{
  "nbformat": 4,
  "nbformat_minor": 0,
  "metadata": {
    "colab": {
      "provenance": [],
      "collapsed_sections": []
    },
    "kernelspec": {
      "name": "python3",
      "display_name": "Python 3"
    },
    "language_info": {
      "name": "python"
    }
  },
  "cells": [
    {
      "cell_type": "markdown",
      "source": [
        "# CSCI 1200 Introduction to Computers and Programming Fall 2022\n",
        "#### Instructor: Ming Ming Tan, UCAs: TBA\n",
        "### Lab 4, ungraded\n",
        "\n",
        "The purpose of this lab is to:\n",
        "\n",
        "* Become comfortable writing `while` loops and `for` loops \n",
        "* Using List and String.\n",
        " \n",
        "\n",
        "**This lab is not graded. However, you are asked to submit the lab by following the instructions below.**\n",
        "\n",
        "Please consult with your UCAs during the lab sessions if you need help completing this lab. \n"
      ],
      "metadata": {
        "id": "zrbZT5Z9c892"
      }
    },
    {
      "cell_type": "markdown",
      "source": [
        "# Submission information\n",
        "1. <font color='red'>Before you start working on this lab, rename the file to “lab04_\\<jagId\\>.ipynb”**. Replace \"\\<jagId>\" with your jagId. For example, a student with jagId “xyz”, will rename “lab04.ipynb” to “lab04_xyz.ipynb”.</font>\n",
        " \n",
        "3. Before you turn this assignment in, make sure everything runs as expected. Go to the menu bar, click **Runtime -> Restart and run all** and check if your code executes as expected. \n",
        "4. You can discuss with others regarding the assignment but all work must be your own.\n",
        "5. Note: There will be interview grading conducted throughout the semester. Selected students will be informed via email regarding the interview grading. Interview grading is when you meet with the instructional staff to discuss a assignment that you have turned in. You will be asked to explain certain aspects of the work you did, how you would go about improving your solution, and other conceptual questions relating to the homework. \n",
        "6. To submit the assignment, do the following: \n",
        "    1.  Locate the Share button on the top right corner, share the notebook with your respective graders’ google account. \n",
        "    2. Click File -> Download .ipynb to download the assignment.\n",
        "    3. Submit the downloaded .ipynb file to D2L.\n",
        "\n",
        "\n",
        "It is your responsibility to ensure that your submission follows the procedure detailed above.\n",
        "\n",
        "Please consult your UCAs for any queries regarding the submission procedure.\n"
      ],
      "metadata": {
        "id": "G5ODwsxfdrVQ"
      }
    },
    {
      "cell_type": "markdown",
      "source": [
        "## Practice Question 1  (Discussed in the lecture)\n",
        "Let $x$ be an integer, perform the following operation on $x$. \n",
        "\n",
        "*   If the number is even, divide it by two.\n",
        "*   If the number is odd, triple it and add one.\n",
        "\n",
        "$x$ is said to satisfy the Collatz cojecture if this process will eventually reach the number 1. \n",
        "\n",
        "Write a Python function that takes an input integer `x`, and return `True` if `x` satisfies the Collatz conjecture.\n",
        "\n",
        "\n"
      ],
      "metadata": {
        "id": "Ky9ARCIhgBTn"
      }
    },
    {
      "cell_type": "code",
      "source": [
        "def checkCollatz(x): \n",
        "\n",
        "  # Your code here.\n",
        "  "
      ],
      "metadata": {
        "id": "rCFbB_usRYnN"
      },
      "execution_count": null,
      "outputs": []
    },
    {
      "cell_type": "code",
      "source": [
        "# Create your own test cases"
      ],
      "metadata": {
        "id": "tvldJX8hJ_Kv"
      },
      "execution_count": null,
      "outputs": []
    },
    {
      "cell_type": "markdown",
      "source": [
        "## Practice Question 2a\n",
        "Write a function `printEven` that takes a positve integer $n$ as input and print all even integers from 0 to $n$. \n"
      ],
      "metadata": {
        "id": "b4puaQFmZ4f2"
      }
    },
    {
      "cell_type": "code",
      "source": [
        "def printEven(n): \n",
        "  # Your code here"
      ],
      "metadata": {
        "id": "ofY7ocJZaBRV"
      },
      "execution_count": null,
      "outputs": []
    },
    {
      "cell_type": "markdown",
      "source": [
        "## Practice Question 2b\n",
        "Write a function `printOdd` that takes a positve integer $n$ as input and print all odd integers from 0 to $n$. \n"
      ],
      "metadata": {
        "id": "VdrW5ciFaFs2"
      }
    },
    {
      "cell_type": "code",
      "source": [
        "def printOdd(n): \n",
        "  \n",
        "  # Your code here"
      ],
      "metadata": {
        "colab": {
          "base_uri": "https://localhost:8080/",
          "height": 132
        },
        "id": "FqScpRITaJ3B",
        "outputId": "30a2ef09-d719-4905-ba52-437cca06725c"
      },
      "execution_count": 1,
      "outputs": [
        {
          "output_type": "error",
          "ename": "SyntaxError",
          "evalue": "ignored",
          "traceback": [
            "\u001b[0;36m  File \u001b[0;32m\"<ipython-input-1-9786c5a86f1c>\"\u001b[0;36m, line \u001b[0;32m2\u001b[0m\n\u001b[0;31m    # Your code here\u001b[0m\n\u001b[0m                    ^\u001b[0m\n\u001b[0;31mSyntaxError\u001b[0m\u001b[0;31m:\u001b[0m unexpected EOF while parsing\n"
          ]
        }
      ]
    },
    {
      "cell_type": "markdown",
      "source": [
        "## Practice Question 2c\n",
        "Write a function `printMultipleThree` that takes a positve integer $n$ as input and print all integers from 0 to $n$ that is a multiple of 3. \n"
      ],
      "metadata": {
        "id": "G6N6U-fiaLi0"
      }
    },
    {
      "cell_type": "code",
      "source": [
        "def printMultipleThree(n): \n",
        "  # Your code here"
      ],
      "metadata": {
        "id": "VZTlFg65aXvB"
      },
      "execution_count": null,
      "outputs": []
    },
    {
      "cell_type": "markdown",
      "source": [
        "## Practice Question 3  (Discussed in the lecture)\n",
        "Write a program to ask user to input a new password. If user’s input is of length at least 8, display ”Password reset”, otherwise, keep asking user to input a new password. "
      ],
      "metadata": {
        "id": "8XFgsxatR6AD"
      }
    },
    {
      "cell_type": "code",
      "source": [
        "# Your code here\n"
      ],
      "metadata": {
        "id": "gmJnuLEfRpvj"
      },
      "execution_count": null,
      "outputs": []
    },
    {
      "cell_type": "markdown",
      "source": [
        "## Practice Question 4  (Discussed in the lecture)\n",
        "Given two variables `password` and `key` of type string, where `key` represents a character. \n",
        "Perform an exhaustive search to check if `key` is in `password`. "
      ],
      "metadata": {
        "id": "FmSpWci4KXxK"
      }
    },
    {
      "cell_type": "code",
      "source": [
        "# Your code here\n"
      ],
      "metadata": {
        "id": "ja8-tgshKWFJ"
      },
      "execution_count": null,
      "outputs": []
    },
    {
      "cell_type": "code",
      "source": [
        "# create your own test cases here"
      ],
      "metadata": {
        "id": "9ogruxpaOHo6"
      },
      "execution_count": null,
      "outputs": []
    },
    {
      "cell_type": "markdown",
      "source": [
        "## Practice Question 5  (Discussed in the lecture)\n",
        "Given two variables `password` and `key` of type string, where `key` represents a character. \n",
        "Write a Python function that takes these variable and return the number of occurrence of `key` in `password`. \n"
      ],
      "metadata": {
        "id": "CZm5tFqZKsZx"
      }
    },
    {
      "cell_type": "code",
      "source": [
        "# Your code here"
      ],
      "metadata": {
        "id": "_xDkbSb_BEzu"
      },
      "execution_count": null,
      "outputs": []
    },
    {
      "cell_type": "code",
      "source": [
        "# create your own test case here"
      ],
      "metadata": {
        "id": "eMHXkRZ_OGyS"
      },
      "execution_count": null,
      "outputs": []
    },
    {
      "cell_type": "markdown",
      "source": [
        "## Practice Question 6  (Discussed in the lecture)\n",
        "There is an error in the following program. \n",
        "The program is suppose to print values 0 to 4. \n",
        "Try executing the program and determine what is error. \n",
        "Fix the error.\n",
        "\n"
      ],
      "metadata": {
        "id": "fxxcu0YjOJHf"
      }
    },
    {
      "cell_type": "code",
      "source": [
        "i=0\n",
        "while(i<5): \n",
        "\tprint(i)\n",
        "i+=1"
      ],
      "metadata": {
        "collapsed": true,
        "id": "z46jeVs9OFTr"
      },
      "execution_count": null,
      "outputs": []
    },
    {
      "cell_type": "markdown",
      "source": [
        "## Practice Question 7  (Discussed in the lecture)\n",
        "Let $x$ be an integer, perform the following operation on $x$. \n",
        "\n",
        "*   If the number is even, divide it by two.\n",
        "*   If the number is odd, triple it and add one.\n",
        "\n",
        "$x$ is said to satisfy the Collatz cojecture if this process will eventually reach the number 1. \n",
        "\n",
        "Write a Python function that takes an input integer `x` and `max_iteration`, and return `True` if `x` satisfies the Collatz conjecture within `max_iteration` rounds, otherwise return `False`. "
      ],
      "metadata": {
        "id": "ahJV7B5KPGdt"
      }
    },
    {
      "cell_type": "code",
      "source": [
        "def checkCollatz(x, max_iteration): \n",
        "\n",
        "   # Your code here"
      ],
      "metadata": {
        "id": "iCDaDLogyBPJ"
      },
      "execution_count": null,
      "outputs": []
    },
    {
      "cell_type": "code",
      "source": [
        "# create your own test cases here"
      ],
      "metadata": {
        "id": "-RXktmZZQJkz"
      },
      "execution_count": null,
      "outputs": []
    },
    {
      "cell_type": "markdown",
      "source": [
        "## Practice Question 8  (Discussed in the lecture)\n",
        "Given an integer $x$ and a list $L$.\n",
        "Write a Python function `index` that takes these variable and returns the first index of $x$ in L. If $x$ is not in $L$, return -1.\n"
      ],
      "metadata": {
        "id": "mgChoYRcalf-"
      }
    },
    {
      "cell_type": "code",
      "source": [
        "def index(x, L): \n",
        "\n",
        "  # Your code here.\n"
      ],
      "metadata": {
        "id": "-j6wDa60axjG"
      },
      "execution_count": null,
      "outputs": []
    },
    {
      "cell_type": "markdown",
      "source": [
        "## Question 1: Find The Minimum Element in a List\n",
        "\n",
        "Write a Python function that takes an input list `L` of numbers and returns the minimum element in `L`. \n",
        "\n",
        "Requirement: You are asked to find the minimum element in `L` by iterating the list and examine each element in `L`. You are not allowed to use `min(L)` in your solution.\n",
        "\n",
        "Assume the input list is non-empty. \n",
        "\n",
        "Hint: At each iteration, keep track of the minimum element seen so far. \n"
      ],
      "metadata": {
        "id": "Jv1aT68xtyH4"
      }
    },
    {
      "cell_type": "code",
      "source": [
        "def minimum(L):\n",
        "  \n",
        "  # Your code here\n",
        "  "
      ],
      "metadata": {
        "id": "d4gmHhTDIbZM"
      },
      "execution_count": null,
      "outputs": []
    },
    {
      "cell_type": "code",
      "source": [
        "minimum([1,2,14]) == 1"
      ],
      "metadata": {
        "id": "h9SPS0Z0LHF_"
      },
      "execution_count": null,
      "outputs": []
    },
    {
      "cell_type": "code",
      "source": [
        "minimum([13, 12, -9]) == -9"
      ],
      "metadata": {
        "id": "TqAiOYLVMySQ"
      },
      "execution_count": null,
      "outputs": []
    },
    {
      "cell_type": "code",
      "source": [
        "L = [9266, 1742, 6925, 3430, 5033, 7757, 6619, 9143, 731, 6151, 2861, 5445, 1229, 9683, 457, 4628, 6775, 4043, 9939, 5788, 5081, 5643, 6385, 6876, 4382, 4953, 3336, 6016, 2919, 5738, 1477, 4840, 3880, 6962, 9562, 6176, 8794, 5355, 8702, 5973, 2914, 4348, 9349, 513, 9824, 213, 1978, 570, 7859, 8165, 1703, 2049, 8748, 3210, 5431, 3301, 4121, 3089, 3868, 3747, 8683, 4153, 5216, 9663, 122, 6688, 6166, 1388, 8779, 303, 3342, 1437, 2408, 8682, 9183, 5531, 4287, 7755, 2086, 5723, 8244, 2850, 3754, 6853, 5296, 8708, 6482, 1582, 2625, 8068, 9452, 7547, 7537, 4084, 8607, 7734, 3294, 7964, 6537, 8615]\n",
        "minimum(L) == min(L)"
      ],
      "metadata": {
        "id": "is5n2Q1iLSbd"
      },
      "execution_count": null,
      "outputs": []
    },
    {
      "cell_type": "markdown",
      "source": [
        "## Question 2: Divisor from a list\n",
        "\n",
        "Write a Python function that takes a positive integer $x$ and a list of integers $L$ as inputs, and return the first element in the list that can divide $x$.If no element in $L$ divides $x$, return -1. "
      ],
      "metadata": {
        "id": "O3vLCfG5PIVs"
      }
    },
    {
      "cell_type": "code",
      "source": [
        "def divisor(x,L):\n",
        "    # Your code here\n",
        "    \n",
        "  "
      ],
      "metadata": {
        "id": "heMJ45VWP1Re"
      },
      "execution_count": null,
      "outputs": []
    },
    {
      "cell_type": "code",
      "source": [
        "divisor(24, [19, 17, 12, 3]) == 12"
      ],
      "metadata": {
        "id": "H2-YSNV8cZwm"
      },
      "execution_count": null,
      "outputs": []
    },
    {
      "cell_type": "code",
      "source": [
        "divisor(124, [19, 17, 12, 2]) == 2"
      ],
      "metadata": {
        "id": "RaPE9pm5cf72"
      },
      "execution_count": null,
      "outputs": []
    },
    {
      "cell_type": "code",
      "source": [
        "divisor(3124, [24, 12, 29, 19]) == -1"
      ],
      "metadata": {
        "id": "RImimYhNkqgY"
      },
      "execution_count": null,
      "outputs": []
    },
    {
      "cell_type": "markdown",
      "source": [
        "## Question 3: Multiples of 3 and 5\n",
        "\n",
        "Write a program that prints the numbers from 1 to 20. But for multiples of three print “Fizz” instead of the number and for the multiples of five print “Buzz”. For numbers which are multiples of both three and five print “FizzBuzz”."
      ],
      "metadata": {
        "id": "qatEb2a7gffv"
      }
    },
    {
      "cell_type": "code",
      "source": [
        "# Your code here"
      ],
      "metadata": {
        "id": "QX5YHpiJge6j"
      },
      "execution_count": null,
      "outputs": []
    }
  ]
}