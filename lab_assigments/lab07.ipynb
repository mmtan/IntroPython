{
  "nbformat": 4,
  "nbformat_minor": 0,
  "metadata": {
    "colab": {
      "provenance": [],
      "collapsed_sections": []
    },
    "kernelspec": {
      "name": "python3",
      "display_name": "Python 3"
    },
    "language_info": {
      "name": "python"
    }
  },
  "cells": [
    {
      "cell_type": "markdown",
      "source": [
        "# CSCI 1200 Introduction to Computers and Programming Fall 2022\n",
        "#### Instructor: Ming Ming Tan, UCAs: TBA\n",
        "### Lab 7, ungraded\n",
        "\n",
        "The purpose of this lab is to:\n",
        "\n",
        "* Practice implementing binary search\n",
        "* Practice developing your own algorithms to solve more complex problems\n",
        " \n",
        "\n",
        "**This lab is not graded. However, you are asked to submit the lab by following the instructions below.**\n",
        "\n",
        "Please consult with your UCAs during the lab sessions if you need help completing this lab. \n"
      ],
      "metadata": {
        "id": "zrbZT5Z9c892"
      }
    },
    {
      "cell_type": "markdown",
      "source": [
        "# Submission information\n",
        "1. <font color='red'>Before you start working on this lab, rename the file to **“lab07_\\<lastName without space>_\\<first letter of your first name\\>.ipynb”**. For example, a student with last name Smith and first name James will rename “lab07.ipynb” to “lab07_smithJ.ipynb”.</font>\n",
        "2. Before you turn this assignment in, make sure everything runs as expected. Go to the menu bar, click **Runtime -> Restart and run all** and check if your code executes as expected. \n",
        "3. You can discuss with others regarding the assignment but **all work must be your own.**\n",
        "4. Note: There will be interview grading conducted throughout the semester. Selected students will be informed via email regarding the interview grading. Interview grading is when you meet with the instructional staff to discuss a assignment that you have turned in. You will be asked to explain certain aspects of the work you did, how you would go about improving your solution, and other conceptual questions relating to the homework. \n",
        "5. To submit the assignment, do the following: \n",
        "\n",
        "    1. Click File -> Download .ipynb to download the assignment.\n",
        "    2. Submit the downloaded .ipynb file to D2L.\n",
        "\n",
        "\n",
        "It is your responsibility to ensure that your submission follows the procedure detailed above.\n",
        "\n",
        "Please consult your UCAs for any queries regarding the submission procedure.\n"
      ],
      "metadata": {
        "id": "G5ODwsxfdrVQ"
      }
    },
    {
      "cell_type": "markdown",
      "source": [
        "### Practice Quesion 1: Binary search for an element in a list\n",
        "\n",
        "Write a Python function `binary_search` that implements the binary search on a sorted list. The function takes an input list `L` of numbers, a number `x` and returns `True` if `x` is in `L`. \n",
        "\n",
        "Assume the input list is non-empty and is sorted in non-decreasing order. \n",
        "\n",
        "Requirement: You are asked to implement binary search. You are not allowed to use `x in L` or others built-in functios such as `find`,`index`, `count` etc."
      ],
      "metadata": {
        "id": "Jv1aT68xtyH4"
      }
    },
    {
      "cell_type": "code",
      "source": [
        "def binary_search(x,L):\n",
        "  \n",
        "  "
      ],
      "metadata": {
        "id": "Z6787POayw-S"
      },
      "execution_count": null,
      "outputs": []
    },
    {
      "cell_type": "code",
      "source": [
        "binary_search(13, [1,2,3,33, 343])== (13 in [1,2,3,33, 343])"
      ],
      "metadata": {
        "id": "b4eq6rfhGg_R"
      },
      "execution_count": null,
      "outputs": []
    },
    {
      "cell_type": "code",
      "source": [
        "binary_search(13, [1,2,23,33, 343])== (13 in [1,2,23,33, 343])"
      ],
      "metadata": {
        "id": "fzwfjh160pOb"
      },
      "execution_count": null,
      "outputs": []
    },
    {
      "cell_type": "code",
      "source": [
        "binary_search(13, [1,2,3,13,33, 343])== (13 in [1,2,3,13,33, 343])"
      ],
      "metadata": {
        "id": "1EAtcwrNTuNY"
      },
      "execution_count": null,
      "outputs": []
    },
    {
      "cell_type": "code",
      "source": [
        "binary_search(13, [1,2,13, 14,33, 343])== (13 in [1,2,3,13,14,33, 343])"
      ],
      "metadata": {
        "id": "IQpK8o59TyRJ"
      },
      "execution_count": null,
      "outputs": []
    },
    {
      "cell_type": "markdown",
      "source": [
        "## Practice Question 2 Binary search integer cube root\n",
        "\n",
        "Write a Python function `integer_cube_root_binary_search` that takes in a positive integer $x$ and return the integer cube root of $x$ if it exists, return None otherwise. Your function should implement binary search to find the integer cube root.\n",
        "\n",
        "Requirement: You are required to find the integer cube root using binary search.\n",
        "\n",
        "```\n",
        "Step-By-Step Instructions: \n",
        "1. start, end=0,x\n",
        "2. Run an iteration as long as start<=end. At each iteration, \n",
        "    a. let m be the integer that lies in the middle of start and end. \n",
        "    b. If  m**3 is equal to x, then return m. \n",
        "    c. Else if m**3< x, then set start to m+1.\n",
        "    d. Else (m**3> x), then set end to m-1.\n",
        "3. Return None\n",
        "```"
      ],
      "metadata": {
        "id": "p0ByFAmhacnk"
      }
    },
    {
      "cell_type": "code",
      "source": [
        "## Binary search on integer cube_root\n",
        "## x is positve integer"
      ],
      "metadata": {
        "id": "YmCv3m_sbumQ"
      },
      "execution_count": null,
      "outputs": []
    },
    {
      "cell_type": "code",
      "source": [
        "def integer_cube_root(x): \n",
        "  \n",
        "  "
      ],
      "metadata": {
        "id": "IYNCVid9acnk"
      },
      "execution_count": null,
      "outputs": []
    },
    {
      "cell_type": "code",
      "source": [
        "integer_cube_root(1789826)==None"
      ],
      "metadata": {
        "id": "LZVxSz2p2UWZ"
      },
      "execution_count": null,
      "outputs": []
    },
    {
      "cell_type": "code",
      "source": [
        "integer_cube_root(27)==3"
      ],
      "metadata": {
        "id": "RUZKfHcJbNsy"
      },
      "execution_count": null,
      "outputs": []
    },
    {
      "cell_type": "code",
      "source": [
        "# Create your own test cases here"
      ],
      "metadata": {
        "id": "51bvr5fobbMW"
      },
      "execution_count": null,
      "outputs": []
    },
    {
      "cell_type": "markdown",
      "source": [
        "## Practice Question 3: Binary search cube root\n",
        "\n",
        "Write a Python function `cube_root_binary_search` that takes in a positive number $x$ and return the cube root of $x$. Your function should implement binary search to find the cube root.\n",
        "\n",
        "Remark: It is sufficient to return the value $r$ such that $r^3$ is \"close\" to $x$ within 0.01, that is $|r^3-x|<0.01$.\n",
        "\n",
        "Requirement: You are required to find the cube root using binary search.\n",
        "\n",
        "```\n",
        "Step-By-Step Instructions: \n",
        "1. start, end=0,x\n",
        "2. Run an iteration as long as start<=end. At each iteration, \n",
        "    a. Let m be the middle of start and end. \n",
        "    b. If  abs(m**3-x)<0.01, then return m. \n",
        "    c. Else if m**3<x, then set start to m. \n",
        "    d. Else (m**3>x), then set end to m. \n",
        "```"
      ],
      "metadata": {
        "id": "ZWWfhtmix5NS"
      }
    },
    {
      "cell_type": "code",
      "source": [
        "## Binary search on cube_root\n",
        "def cube_root(x): \n",
        "  \n"
      ],
      "metadata": {
        "id": "uqNJc2vGx2XB"
      },
      "execution_count": null,
      "outputs": []
    },
    {
      "cell_type": "code",
      "source": [
        "x = 27\n",
        "abs(cube_root(x)**3-x)<0.01"
      ],
      "metadata": {
        "id": "AHi6po1cLpS0"
      },
      "execution_count": null,
      "outputs": []
    },
    {
      "cell_type": "code",
      "source": [
        "x = 16\n",
        "abs(cube_root(x)**3-x)<0.01"
      ],
      "metadata": {
        "id": "18pZhKcgL0b_"
      },
      "execution_count": null,
      "outputs": []
    },
    {
      "cell_type": "code",
      "source": [
        "x = 1789826\n",
        "abs(cube_root(x)**3-x)<0.01"
      ],
      "metadata": {
        "id": "B1u9RrPTL2ta"
      },
      "execution_count": null,
      "outputs": []
    },
    {
      "cell_type": "code",
      "source": [
        "# create your own test case here"
      ],
      "metadata": {
        "id": "_qEpPyfgLk5l"
      },
      "execution_count": null,
      "outputs": []
    },
    {
      "cell_type": "markdown",
      "source": [
        "# Remarks:\n",
        "\n",
        "* In Lab06, Practice Question 4a and 4b, we performed exhaustive search to find the cube root of a positive integer x-0.01. The search space 1, 1.001, 1.002, 1.003,.... up to x. This method might not output a solution if the solution is not within the search space. \n",
        "\n",
        "* In this lab, Practice Question 3, we performed binary search to find the cube root of a positive integer x. The search space is all the numbers between 0 and x. This method is guaranteed to output a solution. \n"
      ],
      "metadata": {
        "id": "9h9oi7OKNroR"
      }
    },
    {
      "cell_type": "code",
      "source": [],
      "metadata": {
        "id": "WKmzh6Fzgjcd"
      },
      "execution_count": null,
      "outputs": []
    }
  ]
}