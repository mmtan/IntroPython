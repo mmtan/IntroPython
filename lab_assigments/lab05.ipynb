{
  "nbformat": 4,
  "nbformat_minor": 0,
  "metadata": {
    "colab": {
      "provenance": [],
      "collapsed_sections": []
    },
    "kernelspec": {
      "name": "python3",
      "display_name": "Python 3"
    },
    "language_info": {
      "name": "python"
    }
  },
  "cells": [
    {
      "cell_type": "markdown",
      "source": [
        "# CSCI 1200 Introduction to Computers and Programming Fall 2022\n",
        "#### Instructor: Ming Ming Tan, UCAs: TBA\n",
        "### Lab 5, ungraded\n",
        "\n",
        "The purpose of this lab is to:\n",
        "\n",
        "* Practice writing conditional statements and loops\n",
        "* Practice working on representations of integers in different bases\n",
        "* Practice working on floating point numbers\n",
        "* Practice developing your own algorithms to solve more complex problems\n",
        " \n",
        "\n",
        "**This lab is not graded. However, you are asked to submit the lab by following the instructions below.**\n",
        "\n",
        "Please consult with your UCAs during the lab sessions if you need help completing this lab. \n"
      ],
      "metadata": {
        "id": "zrbZT5Z9c892"
      }
    },
    {
      "cell_type": "markdown",
      "source": [
        "# Submission information\n",
        "1. <font color='red'>Before you start working on this lab, rename the file to **“lab05_\\<lastName without space>_\\<first letter of your first name\\>.ipynb”**. For example, a student with last name Smith and first name James will rename “lab05.ipynb” to “lab05_smithJ.ipynb”.</font>\n",
        "2. Before you turn this assignment in, make sure everything runs as expected. Go to the menu bar, click **Runtime -> Restart and run all** and check if your code executes as expected. \n",
        "3. You can discuss with others regarding the assignment but **all work must be your own.**\n",
        "4. Note: There will be interview grading conducted throughout the semester. Selected students will be informed via email regarding the interview grading. Interview grading is when you meet with the instructional staff to discuss a assignment that you have turned in. You will be asked to explain certain aspects of the work you did, how you would go about improving your solution, and other conceptual questions relating to the homework. \n",
        "5. To submit the assignment, do the following: \n",
        "   1. Click File -> Download .ipynb to download the assignment.\n",
        "   2. Submit the downloaded .ipynb file to D2L.\n",
        "\n",
        "\n",
        "It is your responsibility to ensure that your submission follows the procedure detailed above.\n",
        "\n",
        "Please consult your UCAs for any queries regarding the submission procedure.\n"
      ],
      "metadata": {
        "id": "G5ODwsxfdrVQ"
      }
    },
    {
      "cell_type": "markdown",
      "source": [
        "## Experiment 1 \n",
        "\n",
        "In the following experiment, you are asked to compute 0.1 + 0.2 + ... + 0.9 using iteration.\n",
        "\n",
        "1. Write and execute the following code. \n",
        "```\n",
        "result=0\n",
        "for i in range(0.1, 1.0, 0.1): \n",
        "  result+=i\n",
        "print(result)\n",
        "```\n",
        "There will be a Type Error. Why? \n",
        "\n",
        "2. Write and execute the following code. \n",
        "```\n",
        "result = 0\n",
        "i = 0.1\n",
        "while i<1.0:\n",
        "  result+=i\n",
        "  i+=0.1\n",
        "print(result)\n",
        "```\n",
        "The result should be 5.5.\n",
        "\n",
        "3. Compute the value of 0.1 + 0.2 + ... + 0.9 to check if 5.5 is the right value. (Ans: Direct computation of 0.1 + 0.2 + ... + 0.9 should give 4.5 which is different from 5.5.)\n",
        "\n",
        "4. Add the line `print(i)` under the statement `result+=i`. This will print all the values of `i` that are added to result during the iterations. Did you notice that some of these values of `i` do not match the values that we wanted to add. For e.g., we should add 0.3 into the result, however, 0.33333.. is added instead. "
      ],
      "metadata": {
        "id": "wHYAaSC-flWX"
      }
    },
    {
      "cell_type": "code",
      "source": [
        "# Experiment 1.1\n",
        "\n"
      ],
      "metadata": {
        "id": "lZVwPHPuh-oI"
      },
      "execution_count": null,
      "outputs": []
    },
    {
      "cell_type": "code",
      "source": [
        "# Experiment 1.2\n",
        "\n"
      ],
      "metadata": {
        "id": "V__tGVwdiCCW"
      },
      "execution_count": null,
      "outputs": []
    },
    {
      "cell_type": "code",
      "source": [
        "# Experiment 1.3\n",
        "\n"
      ],
      "metadata": {
        "id": "o2bjLziqiDfz"
      },
      "execution_count": null,
      "outputs": []
    },
    {
      "cell_type": "code",
      "source": [
        "# Experiment 1.4\n",
        "\n"
      ],
      "metadata": {
        "id": "QS3J89PEiFOg"
      },
      "execution_count": null,
      "outputs": []
    },
    {
      "cell_type": "markdown",
      "source": [
        "## Practice Question 1a: Binary to Decimal Conversions\n",
        "\n",
        "Write a function `binaryToDec(b)` that converts binary string representation of an integer to decimal. The input `b` is a string and the output is an integer.\n",
        "\n",
        "Use the following formula.\n",
        "Let\n",
        "$$b = b_0b_1b_2\\ldots b_{n-1}.$$\n",
        "Each $b_i$ the value at the $i$ index of the string $b$.\n",
        "\n",
        "Then the decimal integer of $b$ is\n",
        "$$d = \\sum_{i=0}^{n-1}2^{n-1-i}b_i$$\n"
      ],
      "metadata": {
        "id": "OOL0yLaMuiz7"
      }
    },
    {
      "cell_type": "code",
      "source": [
        "def binaryToDec(b): \n",
        "  "
      ],
      "metadata": {
        "id": "gyE21ME4G6_o"
      },
      "execution_count": null,
      "outputs": []
    },
    {
      "cell_type": "markdown",
      "source": [
        "In the following code cells, we have the command `%time`. It is a \"magic\" function built in to notebooks for timing. \n"
      ],
      "metadata": {
        "id": "aK9UAO57laJD"
      }
    },
    {
      "cell_type": "code",
      "source": [
        "%time binaryToDec(\"11011\")==27"
      ],
      "metadata": {
        "id": "eB_jX7cRHTuN"
      },
      "execution_count": null,
      "outputs": []
    },
    {
      "cell_type": "code",
      "source": [
        "%time binaryToDec(\"11\")==3"
      ],
      "metadata": {
        "id": "MhG1XTmdHWv9"
      },
      "execution_count": null,
      "outputs": []
    },
    {
      "cell_type": "code",
      "source": [
        "# create your own test case here"
      ],
      "metadata": {
        "id": "xwf2vz5QG6lH"
      },
      "execution_count": null,
      "outputs": []
    },
    {
      "cell_type": "markdown",
      "source": [
        "## Practice Question 1b: Binary to Decimal Conversions\n",
        "\n",
        "Write a function `binaryToDec(b)` that converts binary string representation of an integer to decimal. The input `b` is a string and the output is an integer.\n",
        "\n",
        "Use Horner's rule. Let\n",
        "$$b = b_0b_1b_2\\ldots b_{n-1}.$$\n",
        "Each $b_i$ the value at the $i$ index of the string $b$.\n",
        "Set $d=0$.\n",
        "\n",
        "Run an iteration on indices of string $b$.\n",
        "  \n",
        "> At each iteration i, update the value of $d$ to $2d+b_i$.\n",
        "\n",
        "\n",
        "\n",
        "\n"
      ],
      "metadata": {
        "id": "p6WYVMuEjTXn"
      }
    },
    {
      "cell_type": "code",
      "source": [
        "def binaryToDec(b): \n",
        "  "
      ],
      "metadata": {
        "id": "0ibrx-bgktE5"
      },
      "execution_count": null,
      "outputs": []
    },
    {
      "cell_type": "code",
      "source": [
        "%time binaryToDec(\"11011\")==27"
      ],
      "metadata": {
        "id": "YYKUDAqektE5"
      },
      "execution_count": null,
      "outputs": []
    },
    {
      "cell_type": "code",
      "source": [
        "%time binaryToDec(\"11\")==3"
      ],
      "metadata": {
        "id": "cSfhWwNfktE6"
      },
      "execution_count": null,
      "outputs": []
    },
    {
      "cell_type": "code",
      "source": [
        "# create your own test case here"
      ],
      "metadata": {
        "id": "9YE3EkW7ktE6"
      },
      "execution_count": null,
      "outputs": []
    },
    {
      "cell_type": "markdown",
      "source": [
        "You have implemented two versions of `binaryToDec()`. \n",
        "* The first implementation sums over some powers of two. \n",
        "* The second implementation using Horner's rule.\n",
        "\n",
        "Compare the time needed for the two implementations of `binaryToDec()`. \n",
        "Which one do you think is more efficient?\n"
      ],
      "metadata": {
        "id": "5FzxTlQzlyHH"
      }
    },
    {
      "cell_type": "code",
      "source": [],
      "metadata": {
        "id": "7HikUUGawMXp"
      },
      "execution_count": null,
      "outputs": []
    },
    {
      "cell_type": "markdown",
      "source": [
        "## Practice Question 1c: Decimal to Binary Conversions\n",
        "\n",
        "Write a function `decToBinary(d)` that converts a positive integer from decimal to binary. The input `d` is an int, and the output should be a string. "
      ],
      "metadata": {
        "id": "eHG2ldkVGnSw"
      }
    },
    {
      "cell_type": "code",
      "source": [
        "def decToBinary(d):\n",
        " "
      ],
      "metadata": {
        "id": "cWjv2dKXH34h"
      },
      "execution_count": null,
      "outputs": []
    },
    {
      "cell_type": "code",
      "source": [
        "decToBinary(3)==\"11\""
      ],
      "metadata": {
        "id": "YfdHFvgVITuD"
      },
      "execution_count": null,
      "outputs": []
    },
    {
      "cell_type": "code",
      "source": [
        "decToBinary(27)==\"11011\""
      ],
      "metadata": {
        "id": "6yK-cKujIS1i"
      },
      "execution_count": null,
      "outputs": []
    },
    {
      "cell_type": "code",
      "source": [
        "# create your own test case here"
      ],
      "metadata": {
        "id": "w0vSUWzUISpS"
      },
      "execution_count": null,
      "outputs": []
    },
    {
      "cell_type": "markdown",
      "source": [
        "## Experiment 2\n",
        "\n",
        "1. Write and execute the following statement `0.1+0.1+0.1 == 0.3`. You should get `False`. Mathematically, it should be true, but because 0.1 can't be represented precisely as binary representation, rounding error could happen.\n",
        "\n",
        "2. Write and execute the following code: \n",
        "```python\n",
        "from decimal import Decimal\n",
        "Decimal('0.1')+Decimal('0.1')+Decimal('0.1')==Decimal('0.3')\n",
        "```\n",
        "You should get `True`. Arithmetic with the Python decimal library will not produce rounding error. \n",
        "\n",
        "3. Compare the time required to evaluate both boolean expressions (written for part 1 and 2). Add `%time` in front of the boolean expressions.\n",
        "\n",
        "```\n",
        "%time 0.1+0.1+0.1 ==0.3\n",
        "%time Decimal('0.1')+Decimal('0.1')+Decimal('0.1')==Decimal('0.3')\n",
        "```\n",
        "\n",
        "\n",
        "\n"
      ],
      "metadata": {
        "id": "USJVBf3PmpZd"
      }
    },
    {
      "cell_type": "code",
      "source": [
        "# Experiment 2.1\n"
      ],
      "metadata": {
        "id": "LNQzasAH-JGi"
      },
      "execution_count": null,
      "outputs": []
    },
    {
      "cell_type": "code",
      "source": [
        "# Experiment 2.2\n"
      ],
      "metadata": {
        "id": "QnGSOBs0-KG5"
      },
      "execution_count": null,
      "outputs": []
    },
    {
      "cell_type": "code",
      "source": [
        "# Experiment 2.3\n"
      ],
      "metadata": {
        "id": "weGpPx67-LD1"
      },
      "execution_count": null,
      "outputs": []
    },
    {
      "cell_type": "markdown",
      "source": [
        "## Experiment 3\n",
        "\n",
        "1. Experiment 1 shows that the following code will not give the right result for 0.1 + 0.2 + ... + 0.9. \n",
        "```\n",
        "result = 0\n",
        "i = 0.1\n",
        "while i<1.0:\n",
        "  result+=i\n",
        "  i+=0.1\n",
        "print(result)\n",
        "```\n",
        "When examining the values of `i` added to `result`, we see that 0.9999...is added into the value. To fix this, we allow a small error to 1.0, by changing the condition `i<1.0` in while loop to `i<(1.0-0.001)`. Execute the code again after performing the change. You should get 4.5 as the result. \n",
        "\n",
        "2. Insert `print(i)` under the statement `result+=i` in the above code. Notice that the values 0.3333 is added to `result` instead of 0.3. However, rouding errors get cancelled out at the end and gives the right answer (4.5). \n",
        "\n",
        "3. Note that $0.1 + 0.2 + ... + 0.9$ is equal to $(1+2+\\ldots+9)/10.$ Summation over integers will not lead to rounding errors. Write an iteration to sum all integers from 1 to 9 (inclusive) and then divide the result by 10. You should get 4.5. \n"
      ],
      "metadata": {
        "id": "1nAL4s0Kp0bN"
      }
    },
    {
      "cell_type": "code",
      "source": [
        "# Experiment 3.1\n"
      ],
      "metadata": {
        "id": "HpKBB1QO-Ev6"
      },
      "execution_count": null,
      "outputs": []
    },
    {
      "cell_type": "code",
      "source": [
        "# Experiment 3.2\n"
      ],
      "metadata": {
        "id": "2OnxqL6T-Eld"
      },
      "execution_count": null,
      "outputs": []
    },
    {
      "cell_type": "code",
      "source": [
        "# Experiment 3.3\n"
      ],
      "metadata": {
        "id": "3djk3XeP-Eda"
      },
      "execution_count": null,
      "outputs": []
    },
    {
      "cell_type": "markdown",
      "source": [
        "## Experiment 4\n",
        "\n",
        "1. Consider the following function `quadratic` which takes three values $a,b,c$ and returns $x_1$ and $x_2$ which are the roots of the quadratic equation $ax^2+bx+c$. \n",
        "```\n",
        "def quadratic(a, b, c):\n",
        "    d = b ** 2 - 4 * a * c\n",
        "    x1 = (- b + d ** (1/2)) / (2* a)\n",
        "    x2 = (- b - d ** (1/2)) / (2* a)\n",
        "    return (x1, x2)\n",
        "```\n",
        "Using the function `quadratic`, find the roots of $x^2-200000000x+1$. (You will need to write and execute the `quadratic` function first and then execute `quadratic(1,-2e8,1)`). \n",
        "\n",
        "2. The values returned are $x_1 = 200000000$ and $x_2=0$. Compute ${x_1}^2-200000000{x_1}+1$. Is the result 0? Compute ${x_2}^2-200000000x_2+1$. Is the result 0? If they are not zero, what does it means? \n",
        "\n",
        "3. In the code for Experiment 4.1, print the values of `d`, `x1` and `x2` to examine these values and figure out what could be the issues with the computations. "
      ],
      "metadata": {
        "id": "3AB91XEx-QYq"
      }
    },
    {
      "cell_type": "code",
      "source": [
        "# Experiment 4.1\n",
        "\n"
      ],
      "metadata": {
        "id": "jHjqcyudCc3k"
      },
      "execution_count": null,
      "outputs": []
    },
    {
      "cell_type": "code",
      "source": [
        "# Experiment 4.2\n"
      ],
      "metadata": {
        "id": "s6gX1dn9Ccwg"
      },
      "execution_count": null,
      "outputs": []
    },
    {
      "cell_type": "code",
      "source": [
        "# Experiment 4.2\n"
      ],
      "metadata": {
        "id": "BWctvMDNCnJn"
      },
      "execution_count": null,
      "outputs": []
    },
    {
      "cell_type": "code",
      "source": [
        "# Experiment 4.3\n"
      ],
      "metadata": {
        "id": "WblAf5yFCjg2"
      },
      "execution_count": null,
      "outputs": []
    },
    {
      "cell_type": "markdown",
      "source": [
        "## Question 1a: Decimal/Hexadecimal Conversions \n",
        "\n",
        "Write a function `hex2dec(x)` that converts from hexadecimal (base 16) to decimal. The input `x` is a string and output should be an integer.\n",
        "\n",
        "Requirement: You are not allowed to use `int(x, 16)` in your representation."
      ],
      "metadata": {
        "id": "KCzISpjmIyHm"
      }
    },
    {
      "cell_type": "code",
      "source": [
        "def hex2dec(x):\n",
        "    "
      ],
      "metadata": {
        "id": "jvRGYbkOJGIl"
      },
      "execution_count": null,
      "outputs": []
    },
    {
      "cell_type": "code",
      "source": [
        "hex2dec('2A') == 42"
      ],
      "metadata": {
        "id": "MWtY_KBxJSaj"
      },
      "execution_count": null,
      "outputs": []
    },
    {
      "cell_type": "code",
      "source": [
        "hex2dec('C0FFEE') == 12648430"
      ],
      "metadata": {
        "id": "aY3O_G93JTml"
      },
      "execution_count": null,
      "outputs": []
    },
    {
      "cell_type": "code",
      "source": [
        "hex2dec('DEAF') == 57007"
      ],
      "metadata": {
        "id": "0e-TNPQjKZ7c"
      },
      "execution_count": null,
      "outputs": []
    },
    {
      "cell_type": "markdown",
      "source": [
        "## Question 1b: Decimal/Hexadecimal Conversions \n",
        "\n",
        "Write a function `dec2hex(x)` that converts from decimal to hexadecimal. The input `x` is an integer and output should be a string that represents the hexadecimal representation of `x`.\n",
        "\n",
        "Requirement: You are not allowed to use the `hex` function in your solution."
      ],
      "metadata": {
        "id": "lzvseeIeL2T8"
      }
    },
    {
      "cell_type": "code",
      "source": [
        "def dec2hex(x): \n",
        "    "
      ],
      "metadata": {
        "id": "1xysqqnmKeHh"
      },
      "execution_count": null,
      "outputs": []
    }
  ]
}