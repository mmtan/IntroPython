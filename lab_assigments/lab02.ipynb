{
  "nbformat": 4,
  "nbformat_minor": 0,
  "metadata": {
    "colab": {
      "name": "lab02.ipynb",
      "provenance": [],
      "collapsed_sections": []
    },
    "kernelspec": {
      "name": "python3",
      "display_name": "Python 3"
    },
    "language_info": {
      "name": "python"
    }
  },
  "cells": [
    {
      "cell_type": "markdown",
      "source": [
        "# CSCI 1200 Introduction to Computers and Programming Fall 2022\n",
        "#### Instructor: Ming Ming Tan, UCAs: TBA\n",
        "### Lab 2, ungraded\n",
        "\n",
        "\n",
        "The purpose of this lab is to:\n",
        "\n",
        "* Become familiar with colab notebooks\n",
        "* Understand how to test your own solutions\n",
        "* Practice writing syntactically correct expressions in Python\n",
        "\n",
        "\n",
        "**This lab is not graded. However, you are asked to submit the lab by following the instructions below.**\n",
        "\n",
        "Please consult with your UCAs during the lab sessions if you need help completing this lab. \n"
      ],
      "metadata": {
        "id": "zrbZT5Z9c892"
      }
    },
    {
      "cell_type": "markdown",
      "source": [
        "# Submission information\n",
        "1. <font color='red'>Before you start working on this lab, rename the file to **“lab02_\\<lastName without space>_\\<first letter of your first name\\>.ipynb”**. For example, a student with last name Smith and first name James will rename “lab02.ipynb” to “lab02_smithJ.ipynb”.</font>\n",
        " \n",
        "3. Before you turn this assignment in, make sure everything runs as expected. Go to the menu bar, click **Runtime -> Restart and run all** and check if your code executes as expected. \n",
        "4. You can discuss with others regarding the assignment but all work must be your own.\n",
        "5. Note: There will be interview grading conducted throughout the semester. Selected students will be informed via email regarding the interview grading. Interview grading is when you meet with the instructional staff to discuss a assignment that you have turned in. You will be asked to explain certain aspects of the work you did, how syou would go about improving your solution, and other conceptual questions relating to the homework. \n",
        "6. To submit the assignment, do the following: \n",
        "    1. For assignment, locate the Share button on the top right corner, share the notebook with your respective graders’ google accounts. \n",
        "    2. For lab and assignment, Click File -> Download .ipynb to download the assignment.\n",
        "    3. Submit the downloaded .ipynb file to D2L.\n",
        "\n",
        "\n",
        "It is your responsibility to ensure that your submission follows the procedure detailed above.\n",
        "\n",
        "Please consult your UCAs for any queries regarding the submission procedure.\n"
      ],
      "metadata": {
        "id": "G5ODwsxfdrVQ"
      }
    },
    {
      "cell_type": "markdown",
      "source": [
        "## Practice Question 1: Hypotenuse (Discussed in the lecture)\n",
        "\n",
        "Given a right triangle. \n",
        "Let $c$ denotes the length of the hypotenuse and $a$ and $b$ denote the lengths of the other two sides. By Pythagorean theorem, we have \n",
        "$$c=\\sqrt{(a^2+b^2)} .$$\n",
        "Write a function that returns the length of the hypotenuse of a right triangle. The function takes inputs $a$ and $b$ which  represent the length of the other two sides. \n",
        "\n",
        "Hint: The formula makes use of square roots. Consult https://docs.python.org/3/ to find out how to use square roots in Python."
      ],
      "metadata": {
        "id": "Ky9ARCIhgBTn"
      }
    },
    {
      "cell_type": "code",
      "execution_count": null,
      "metadata": {
        "id": "qgadbLj8bdNm"
      },
      "outputs": [],
      "source": [
        "def hypotenuse(a,b):\n",
        "\n",
        "    # Your code here\n"
      ]
    },
    {
      "cell_type": "code",
      "source": [
        "hypotenuse(3,4)==5"
      ],
      "metadata": {
        "id": "aGJug-c3dpmW"
      },
      "execution_count": null,
      "outputs": []
    },
    {
      "cell_type": "code",
      "source": [
        "hypotenuse(5,12)==13"
      ],
      "metadata": {
        "id": "heBqohqHJcsA"
      },
      "execution_count": null,
      "outputs": []
    },
    {
      "cell_type": "code",
      "source": [
        "# create your own test case here, verify the result by using a external calculator\n",
        "# large values of a and b\n"
      ],
      "metadata": {
        "id": "2LA7Yyz3JhXu"
      },
      "execution_count": null,
      "outputs": []
    },
    {
      "cell_type": "code",
      "source": [
        "# create your own test case here, verify the result by using a external calculator\n",
        "# negative input values"
      ],
      "metadata": {
        "id": "V4mNh-tmJwtz"
      },
      "execution_count": null,
      "outputs": []
    },
    {
      "cell_type": "markdown",
      "source": [
        "## Practice Question 2: How long does it takes to examine all 10! possibilities (Discussed in the lecture)\n",
        "\n",
        "There are 3628800 number of ways to scramble a sequence of 10 numbers. \n",
        "Suppose it takes 1 second to check if each sequence is sorted. \n",
        "\n",
        "1. How many minutes and seconds are required to examine all 3628800 such sequences? \n",
        "2. What is the minimum number of days are required to examine all such sequences? \n",
        "\n"
      ],
      "metadata": {
        "id": "ZGZnhA1IMXO5"
      }
    },
    {
      "cell_type": "code",
      "source": [
        "# Practice Question 2.1\n",
        "minutes = # Your code here\n",
        "seconds = # Your code here"
      ],
      "metadata": {
        "id": "JjYDCv5SMsVJ"
      },
      "execution_count": null,
      "outputs": []
    },
    {
      "cell_type": "code",
      "source": [
        "# print the answer\n",
        "print(\"3628800 seconds is {} minutes and {} seconds\".format(minutes, seconds))"
      ],
      "metadata": {
        "id": "-IweccUTHKK7"
      },
      "execution_count": null,
      "outputs": []
    },
    {
      "cell_type": "code",
      "source": [
        "# Practice Question 2.2\n",
        "days = # Your code here\n"
      ],
      "metadata": {
        "id": "BwjcZAPYNU8p"
      },
      "execution_count": null,
      "outputs": []
    },
    {
      "cell_type": "markdown",
      "source": [
        "## Question 1: Quadratic Formula\n",
        "\n",
        "The solutions to an equation of the form $$ ax^2 + bx + c = 0$$ is: $$x_{1}, x_{2} = \\frac{-b\\pm\\sqrt{b^2-4ac}}{2a} $$\n",
        "\n",
        "<br> There are two solutions: one for adding, and one for subtracting the radical.\n",
        "<br> Write a program that takes a, b, and c as input and solves for $x_1$ and $x_2$.\n",
        "<br>You may assume that $ b^2 - 4ac \\geq 0$. Let $x_1$ be the solution where you add the term under the square root term, and $x_2$ be the solution where you subtract the square root term."
      ],
      "metadata": {
        "id": "aXO_D0CWQwb7"
      }
    },
    {
      "cell_type": "code",
      "source": [
        "def quadratic(a, b, c):\n",
        "    \n",
        "    # Your code here \n",
        "    # x1 = \n",
        "    # x2 = \n",
        "    # return (x1,x2)\n",
        "    "
      ],
      "metadata": {
        "id": "Lci38-HZQwb8"
      },
      "execution_count": null,
      "outputs": []
    },
    {
      "cell_type": "code",
      "source": [
        "quadratic(2, 5, -3) == (0.5, -3.0)"
      ],
      "metadata": {
        "id": "HSsb-PosQwb8"
      },
      "execution_count": null,
      "outputs": []
    },
    {
      "cell_type": "code",
      "source": [
        "quadratic(1, 2, 1) == (-1.0, -1.0)"
      ],
      "metadata": {
        "id": "mSgi45EBQwb8"
      },
      "execution_count": null,
      "outputs": []
    },
    {
      "cell_type": "code",
      "source": [
        "# create your own test case here, verify the result by using a external calculator\n"
      ],
      "metadata": {
        "id": "QF1F1zwiQwb8"
      },
      "execution_count": null,
      "outputs": []
    },
    {
      "cell_type": "markdown",
      "source": [
        "## Question 2a: Inches and Feet Conversion \n",
        "\n",
        "Write a Python function that converts a measurement in $d$ feet and $e$ inches to a measurement in inches. \n",
        "\n",
        "Hint: $12$ inches =  $1$ ft. Hence $10$ ft and $4$ inches is equivalent to $124$ inches. "
      ],
      "metadata": {
        "id": "XMttZqb4Kf88"
      }
    },
    {
      "cell_type": "code",
      "source": [
        "def inches(d,e): \n",
        "    \n",
        "    # Your code here"
      ],
      "metadata": {
        "id": "CjhDrPqSKqtN"
      },
      "execution_count": null,
      "outputs": []
    },
    {
      "cell_type": "code",
      "source": [
        "inches(10,4)==124"
      ],
      "metadata": {
        "id": "YHw1yVAvKv7l"
      },
      "execution_count": null,
      "outputs": []
    },
    {
      "cell_type": "code",
      "source": [
        "inches(1,4)==16"
      ],
      "metadata": {
        "id": "RYShjPE0KxsI"
      },
      "execution_count": null,
      "outputs": []
    },
    {
      "cell_type": "code",
      "source": [
        "# create your own test case here, verify the result by using a external calculator\n",
        "# large values d and e"
      ],
      "metadata": {
        "id": "x5cEWa74KyN8"
      },
      "execution_count": null,
      "outputs": []
    },
    {
      "cell_type": "markdown",
      "source": [
        "## Question 2b: Inches and Feet Conversion \n",
        "Write a function that converts any number of inches into $d$ inches and $e$ feet. (Essentially, do the opposite of Question 2a)."
      ],
      "metadata": {
        "id": "Jg9B7hMiKb9b"
      }
    },
    {
      "cell_type": "code",
      "source": [
        "def feetInches(x): # \n",
        "\n",
        "    # Your code here\n",
        "    # d = \n",
        "    # e = \n",
        "    # return (d,e)\n",
        "    "
      ],
      "metadata": {
        "id": "8BNZekaOKW1n"
      },
      "execution_count": null,
      "outputs": []
    },
    {
      "cell_type": "code",
      "source": [
        "feetInches(124) == (10, 4)"
      ],
      "metadata": {
        "id": "ge8k-zz1O84P"
      },
      "execution_count": null,
      "outputs": []
    },
    {
      "cell_type": "code",
      "source": [
        "feetInches(16) == (1, 4)"
      ],
      "metadata": {
        "id": "cSi87D3kO6eW"
      },
      "execution_count": null,
      "outputs": []
    },
    {
      "cell_type": "markdown",
      "source": [
        "## Question 3: Arithmetic Progression \n",
        "\n",
        "An arithmetic progression is a sequence of numbers such that the difference between the consecutive terms is constant.\n",
        "If the initial term of an arithmetic progression is $a_{1}$ and the common difference of successive members is $d$, then the $n$-th term of the sequence $a_n$ is given by\n",
        "$$ a_{n}=a_{1}+(n-1)d.$$\n",
        "\n",
        "Write a function that returns the $n$-th term of an arithmetic progression, given the initial term $a$ and the common difference $d$. "
      ],
      "metadata": {
        "id": "B-Gz8GItPQn0"
      }
    },
    {
      "cell_type": "code",
      "source": [
        "def arithmetic(a,d,n):\n",
        "  \n",
        "    # Your code here\n",
        "    "
      ],
      "metadata": {
        "id": "mvqTv601PPac"
      },
      "execution_count": null,
      "outputs": []
    },
    {
      "cell_type": "code",
      "source": [
        "arithmetic(1,1,100)==100"
      ],
      "metadata": {
        "id": "pgDq9GAMSo3B"
      },
      "execution_count": null,
      "outputs": []
    },
    {
      "cell_type": "code",
      "source": [
        "arithmetic(0,2,100)==198"
      ],
      "metadata": {
        "id": "2KGHLmimStkE"
      },
      "execution_count": null,
      "outputs": []
    },
    {
      "cell_type": "code",
      "source": [
        "# create your own test case here, verify the result by using a external calculator\n"
      ],
      "metadata": {
        "id": "Vov7JhhHQWD_"
      },
      "execution_count": null,
      "outputs": []
    },
    {
      "cell_type": "markdown",
      "source": [
        "## Question 4: Character Shift in Caesar Cipher (Discussed in Lecture)\n",
        "\n",
        "In cryptography, Caesar cipher is one of the simplest and most widely known encryption techniques. It is a type of substitution cipher in which each letter in the plaintext is replaced by a letter some fixed number of positions down the alphabet. \n",
        "\n",
        "For example, with a right shift of 3, A would be replaced by D, Z would become C, and so on.\n",
        "\n",
        "You are asked to write a Python function `caesear` that takes two values `character` and `key` and returns the character after shifting it to right by `key` positions.\n",
        "\n",
        "Assume that the input `character` is always capital letter.\n",
        "\n",
        "For example, `caesar(\"A\",3)` should return \"D\" and `caesar(\"Z\",3)` should return \"C\". "
      ],
      "metadata": {
        "id": "wqmOrKWdO7iK"
      }
    },
    {
      "cell_type": "code",
      "source": [
        "def caesar(character, key):\n",
        "  \n",
        "    # Your code here\n",
        "    "
      ],
      "metadata": {
        "id": "bvzy2MrzO6zS"
      },
      "execution_count": null,
      "outputs": []
    },
    {
      "cell_type": "code",
      "source": [
        "caesar(\"A\",3) == \"D\""
      ],
      "metadata": {
        "id": "SKObSMphX8Z4"
      },
      "execution_count": null,
      "outputs": []
    },
    {
      "cell_type": "code",
      "source": [
        "caesar(\"Z\",3) == \"C\""
      ],
      "metadata": {
        "id": "s8FLgWGl2_1z"
      },
      "execution_count": null,
      "outputs": []
    },
    {
      "cell_type": "code",
      "source": [
        "caesar(\"X\",4) == \"B\""
      ],
      "metadata": {
        "id": "ZPBIBw5L4MXc"
      },
      "execution_count": null,
      "outputs": []
    },
    {
      "cell_type": "code",
      "source": [
        "caesar(\"B\",-4) == \"X\""
      ],
      "metadata": {
        "id": "UfvlDN4T4RsE"
      },
      "execution_count": null,
      "outputs": []
    }
  ]
}