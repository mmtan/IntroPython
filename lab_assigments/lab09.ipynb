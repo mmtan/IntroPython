{
  "nbformat": 4,
  "nbformat_minor": 0,
  "metadata": {
    "colab": {
      "provenance": [],
      "collapsed_sections": []
    },
    "kernelspec": {
      "name": "python3",
      "display_name": "Python 3"
    },
    "language_info": {
      "name": "python"
    }
  },
  "cells": [
    {
      "cell_type": "markdown",
      "source": [
        "# CSCI 1200 Introduction to Computers and Programming Fall 2022\n",
        "#### Instructor: Ming Ming Tan, UCAs: TBA\n",
        "### Lab 9, ungraded\n",
        "\n",
        "The purpose of this lab is to:\n",
        "\n",
        "*  Practice working with lists and strings\n",
        "* Practice developing your own algorithms to solve more complex problems\n",
        " \n",
        "\n",
        "**This lab is not graded. However, you are asked to submit the lab by following the instructions below.**\n",
        "\n",
        "Please consult with your UCAs during the lab sessions if you need help completing this lab. \n"
      ],
      "metadata": {
        "id": "zrbZT5Z9c892"
      }
    },
    {
      "cell_type": "markdown",
      "source": [
        "# Submission information\n",
        "1. <font color='red'>Before you start working on this lab, rename the file to **“lab09_\\<lastName without space>_\\<first letter of your first name\\>.ipynb”**. For example, a student with last name Smith and first name James will rename “lab09.ipynb” to “lab09_smithJ.ipynb”.</font>\n",
        "2. Before you turn this assignment in, make sure everything runs as expected. Go to the menu bar, click **Runtime -> Restart and run all** and check if your code executes as expected. \n",
        "3. You can discuss with others regarding the assignment but **all work must be your own.**\n",
        "4. Note: There will be interview grading conducted throughout the semester. Selected students will be informed via email regarding the interview grading. Interview grading is when you meet with the instructional staff to discuss a assignment that you have turned in. You will be asked to explain certain aspects of the work you did, how you would go about improving your solution, and other conceptual questions relating to the homework. \n",
        "5. To submit the assignment, do the following: \n",
        "\n",
        "    1. Click File -> Download .ipynb to download the assignment.\n",
        "    2. Submit the downloaded .ipynb file to D2L.\n",
        "\n",
        "\n",
        "It is your responsibility to ensure that your submission follows the procedure detailed above.\n",
        "\n",
        "Please consult your UCAs for any queries regarding the submission procedure.\n"
      ],
      "metadata": {
        "id": "G5ODwsxfdrVQ"
      }
    },
    {
      "cell_type": "markdown",
      "source": [
        "## Practice Question 1: Recap on string\n",
        "\n",
        "Let `text = \"ABCDA\"`. \n",
        "What is the output of\n",
        "\n",
        "1.  `len(text)`\n",
        "2.  `\"A\" in text`\n",
        "3.  `\"E\" in text`\n",
        "4.  `text+text`\n",
        "5.  `text*2`\n",
        "6.  `text*text`\n",
        "7.  `text[0]`\n",
        "8. `text[-1]`\n",
        "9. `text[len(text)]`\n",
        "10. `text[0:-1]`\n",
        "11. `text[:]`\n",
        "12. `text[0:2]`\n",
        "13. `text[0:len(text)]`\n",
        "14. `text[0:len(text):2]`\n",
        "15. `text[::-1]`\n",
        "\n",
        "Write your answers as comments. \n",
        "\n",
        "\n"
      ],
      "metadata": {
        "id": "PDjaCNgEf7V5"
      }
    },
    {
      "cell_type": "code",
      "source": [
        "# Practice Question 1.1\n",
        "\n"
      ],
      "metadata": {
        "id": "jLRxIjkPgV32"
      },
      "execution_count": null,
      "outputs": []
    },
    {
      "cell_type": "markdown",
      "source": [
        "## Practice Question 2: Methods on string\n",
        "\n",
        "Let `text = \"ABCDA\"`. \n",
        "What is the output of\n",
        "\n",
        "1.  `text.count(\"A\")`\n",
        "2. `text.count(\"E\")`\n",
        "3. `text.find(\"A\")`\n",
        "4. `text.find(\"E\")`\n",
        "5. `text.endwith(\"A\")`\n",
        "6. `text.endswith(\"Z\")`\n",
        "7. `text.isdigit()`\n",
        "8. `text.capitalize()`\n",
        "9. `text.lower()`\n",
        "10. `text.replace(\"A\", \"E\")`\n"
      ],
      "metadata": {
        "id": "D-8m1DkFxJPx"
      }
    },
    {
      "cell_type": "code",
      "source": [
        "## Practice Question 2.1\n"
      ],
      "metadata": {
        "id": "mc0Sv9AixQzp"
      },
      "execution_count": null,
      "outputs": []
    },
    {
      "cell_type": "markdown",
      "source": [
        "## Practice Question 3a: String is immutable\n",
        "\n",
        "Consider the following program: \n",
        "```\n",
        "text = \"ABC\"\n",
        "text[0]=\"D\"\n",
        "```\n",
        "What is the value of `text` now? Would there be a error message displayed? Why? \n",
        "\n",
        "Write your answers as comments. \n"
      ],
      "metadata": {
        "id": "9yF1n_axzBTD"
      }
    },
    {
      "cell_type": "code",
      "source": [
        "# Practice Question 3a\n"
      ],
      "metadata": {
        "id": "LUDEF8jNzOqh"
      },
      "execution_count": null,
      "outputs": []
    },
    {
      "cell_type": "markdown",
      "source": [
        "## Practice Question 3b: String is immutable\n",
        "\n",
        "Consider the following program: \n",
        "```\n",
        "text = \"ABC\"\n",
        "text.replace(\"B\", \"D\")\n",
        "print(text)\n",
        "```\n",
        "Which of the following would be displayed? `\"ABC\"` or `\"ADC\"`? Why? \n",
        "\n",
        "Write your answer as comments.\n"
      ],
      "metadata": {
        "id": "dH-XqmULindL"
      }
    },
    {
      "cell_type": "code",
      "source": [
        "# Practice Question 3b \n"
      ],
      "metadata": {
        "id": "BhI8RHkmiVVQ"
      },
      "execution_count": null,
      "outputs": []
    },
    {
      "cell_type": "markdown",
      "source": [
        "## Practice Question 3c: String is immutable\n",
        "\n",
        "Consider the following program: \n",
        "```\n",
        "text = \"ABC\"\n",
        "text = text.replace(\"B\", \"D\")\n",
        "print(text)\n",
        "```\n",
        "Which of the following would be displayed? `\"ABC\"` or `\"ADC\"`? Why? \n",
        "\n",
        "Write your answer as comments."
      ],
      "metadata": {
        "id": "n6_oZdaHv0Yh"
      }
    },
    {
      "cell_type": "code",
      "source": [
        "# Practice Question 3c\n"
      ],
      "metadata": {
        "id": "YC_5jps8v3R9"
      },
      "execution_count": null,
      "outputs": []
    },
    {
      "cell_type": "markdown",
      "source": [
        "## Practice Question 4a: Remove elements in string\n",
        "\n",
        "Consider the following function: \n",
        "```\n",
        "def remove_forbidden_character(text, forbidden_character): \n",
        "  for c in text: \n",
        "    if c == forbidden_character: \n",
        "      text.replace(forbidden_character, \"\")\n",
        "  return text\n",
        "```\n",
        "\n",
        "1. What is the output of `remove_forbidden_character(\"ABCADEF\", \"A\")`?\n",
        "2. The function is supposed to satisfy the following specification: \n",
        "```\n",
        "  '''\n",
        "  Input: text and forbidden_character are of type string, forbidden_character has length 1\n",
        "  Output: Return a copy with all occurrence of the forbidden character in text removed.\n",
        "\n",
        "  Example: remove_forbidden_character(\"ABCADEF\", \"A\") should return \"BCDEF\"\n",
        "  '''\n",
        "```\n",
        "  Why is the output of `remove_forbidden_character(\"ABCADEF\", \"A\")` is not `\"BCDEF\"`?\n",
        "\n",
        "Write your answers as comments. \n"
      ],
      "metadata": {
        "id": "ONI9UwqxNg45"
      }
    },
    {
      "cell_type": "code",
      "source": [
        "# Practice Question 4a"
      ],
      "metadata": {
        "id": "4ffVTo6FOjxA"
      },
      "execution_count": null,
      "outputs": []
    },
    {
      "cell_type": "markdown",
      "source": [
        "## Practice Question 4b: Remove elements in a string\n",
        "\n",
        "Consider the following function: \n",
        "```\n",
        "def remove_forbidden_character(text, forbidden_character): \n",
        "  for c in text: \n",
        "    if c == forbidden_character: \n",
        "     text = text.replace(forbidden_character, \"\")\n",
        "  return text\n",
        "```\n",
        "1. What is the output of `remove_forbidden_character(\"ABCADEF\", \"A\")`?\n",
        "2. Does the function satisfy the following specification: \n",
        "```\n",
        "  '''\n",
        "  Input: text and forbidden_character are of type string, forbidden_character has length 1\n",
        "   Output: Return a copy with all occurrence of the forbidden character in text removed.\n",
        "\n",
        "  Example: remove_forbidden_character(\"ABCADEF\", \"A\") should return \"BCDEF\"\n",
        "  '''\n",
        "```"
      ],
      "metadata": {
        "id": "0vP1Ff0mPU0A"
      }
    },
    {
      "cell_type": "code",
      "source": [
        "# Practice Question 4b\n"
      ],
      "metadata": {
        "id": "XYluKw6-P7rZ"
      },
      "execution_count": null,
      "outputs": []
    },
    {
      "cell_type": "markdown",
      "source": [
        "## Practice Question 4c: Remove elements in string\n",
        "\n",
        "Consider the following function: \n",
        "```\n",
        "def remove_forbidden_character(text, forbidden_character): \n",
        "  return text.replace(forbidden_character, \"\")\n",
        "```\n",
        "1. What is the output of `remove_forbidden_character(\"ABCADEF\", \"A\")`?\n",
        "2. Does the function satisfy the following specification: \n",
        "```\n",
        "  '''\n",
        "  Input: text and forbidden_character are of type string, forbidden_character has length 1\n",
        "   Output: Return a copy with all occurrence of the forbidden character in text removed.\n",
        "  Example: remove_forbidden_character(\"ABCADEF\", \"A\") should return \"BCDEF\"\n",
        "  '''\n",
        "```"
      ],
      "metadata": {
        "id": "TsndQGspP-HH"
      }
    },
    {
      "cell_type": "code",
      "source": [
        "# Practice Question 4c\n"
      ],
      "metadata": {
        "id": "x_lJaD2YYGsz"
      },
      "execution_count": null,
      "outputs": []
    },
    {
      "cell_type": "markdown",
      "source": [
        "## Practice Question 4d: Remove elements in string\n",
        "\n",
        "Write the function that satisfies the following specification without using any built-in method such as `replace`:\n",
        "```\n",
        "def remove_forbidden_character(text, forbidden_character): \n",
        "    '''\n",
        "  Input: text and forbidden_character are of type string, forbidden_character has length 1\n",
        "  Output: Return a copy with all occurrence of the forbidden character in text removed.\n",
        "  Example: remove_forbidden_character(\"ABCADEF\", \"A\") should return \"BCDEF\"\n",
        "  '''\n",
        "```\n",
        "\n",
        "Hint: \n",
        "```\n",
        "Create a variable result that initialize to the empty string\n",
        "Iterate over all element c in text\n",
        "\tAt each iteration, if c is not equal to the forbidden character, append c to result\n",
        "return result\n",
        "```"
      ],
      "metadata": {
        "id": "rpeVXisRXMAX"
      }
    },
    {
      "cell_type": "code",
      "source": [
        "def remove_forbidden_character(text, forbidden_character): \n",
        "  "
      ],
      "metadata": {
        "id": "95D_934bW4lM"
      },
      "execution_count": null,
      "outputs": []
    },
    {
      "cell_type": "code",
      "source": [
        "# create your own test case "
      ],
      "metadata": {
        "id": "REk92SCjYYTM"
      },
      "execution_count": null,
      "outputs": []
    },
    {
      "cell_type": "markdown",
      "source": [
        "## Practice Question 5a: List\n"
      ],
      "metadata": {
        "id": "UdBRmfu3wstM"
      }
    },
    {
      "cell_type": "markdown",
      "source": [
        "Let `L = [1, 2, 3, 4]`. \n",
        "What is the output of\n",
        "\n",
        "1.  `len(L)`\n",
        "2.  `1 in L`\n",
        "3.  `5 in L`\n",
        "4.  `L+L`\n",
        "5.  `L*2`\n",
        "6.  `L*L`\n",
        "7.  `L[0]`\n",
        "8. `L[-1]`\n",
        "9. `L[len(L)]`\n",
        "10. `L[0:-1]`\n",
        "11. `L[:]`\n",
        "12. `L[0:2]`\n",
        "13. `L[0:len(L)]`\n",
        "14. `L[0:len(L):2]`\n",
        "15. `L[::-1]`\n",
        "16. `L+5`\n",
        "17. `L+[5]`\n",
        "18. `sorted(L)`\n",
        "\n",
        "Write your answers as comments. "
      ],
      "metadata": {
        "id": "4bGgxDaDBwv1"
      }
    },
    {
      "cell_type": "code",
      "source": [
        "# Practice Question 5a\n"
      ],
      "metadata": {
        "id": "m4W3NGvBwwXu"
      },
      "execution_count": null,
      "outputs": []
    },
    {
      "cell_type": "markdown",
      "source": [
        "## Practice Question 5b: Methods for list\n",
        "\n",
        "Let `L = [1,2,3, 3]`. What is the output of the following? \n",
        "1. `L.count(3)`\n",
        "2. `L.count(4)` \n",
        "3. `L.index(3)` \n",
        "4. `L.index(4)`\n",
        "\n",
        "Write your answers as comments. "
      ],
      "metadata": {
        "id": "GXYs0-eNxDMP"
      }
    },
    {
      "cell_type": "code",
      "source": [
        "# Practice Question 5b\n"
      ],
      "metadata": {
        "id": "tzrnR6RsFYpP"
      },
      "execution_count": null,
      "outputs": []
    },
    {
      "cell_type": "markdown",
      "source": [
        "## Practice Question 6a: List is mutable\n",
        "\n",
        "Consider the following code: \n",
        "```\n",
        "L=[1,2,4]\n",
        "L[-1]=3\n",
        "```\n",
        "What is the value of `L`? \n",
        "\n",
        "Write your answers as comments. "
      ],
      "metadata": {
        "id": "q2Wok43NHPH8"
      }
    },
    {
      "cell_type": "code",
      "source": [
        "# Practice Question 6a\n"
      ],
      "metadata": {
        "id": "cchZPDB-Hij2"
      },
      "execution_count": null,
      "outputs": []
    },
    {
      "cell_type": "markdown",
      "source": [
        "## Practice Question 6b: Methods of list that change the elements\n",
        "\n",
        "Consider the following code: \n",
        "```\n",
        "L = [1,2,3, 3]\n",
        "L.append(4) \n",
        "print(L)\n",
        "L.extend([4])\n",
        "print(L)\n",
        "L.insert(2, 1)\n",
        "print(L)\n",
        "L.pop()\n",
        "print(L)\n",
        "L.remove(3)\n",
        "print(L)\n",
        "L.reverse()\n",
        "print(L)\n",
        "L.sort()\n",
        "print(L)\n",
        "```\n",
        "What is the output of each of the print statements? \n",
        "\n",
        "Write your answers as comments. "
      ],
      "metadata": {
        "id": "BfXyDVIOHmzu"
      }
    },
    {
      "cell_type": "code",
      "source": [
        "## Practice Question 6b\n"
      ],
      "metadata": {
        "id": "qxi0lHJNH24f"
      },
      "execution_count": null,
      "outputs": []
    },
    {
      "cell_type": "markdown",
      "source": [
        "## Practice Question 7a: Remove elements in a list\n",
        "\n",
        "Consider the following function: \n",
        "```\n",
        "def remove_forbidden_element(L, forbidden_element): \n",
        "  L.remove(forbidden_element)\n",
        "```\n",
        "\n",
        "What is the output of \n",
        "```\n",
        "L = [1, 3, 3, 4,3]\n",
        "remove_forbidden_element(L, 3)\n",
        "print(L)\n",
        "\n",
        "```\n",
        "Write your answers as comments. "
      ],
      "metadata": {
        "id": "ChZzel3Ti29m"
      }
    },
    {
      "cell_type": "code",
      "source": [
        "## Practice Question 7a\n"
      ],
      "metadata": {
        "id": "uiOJaYqgi8XU"
      },
      "execution_count": null,
      "outputs": []
    },
    {
      "cell_type": "markdown",
      "source": [
        "## Practice Question 7b: Remove elements in a list\n",
        "\n",
        "Consider the following function: \n",
        "```\n",
        "def remove_forbidden_element(L, forbidden_element): \n",
        "  for element in L: \n",
        "    if element==forbidden_element: \n",
        "      L.remove(forbidden_element)\n",
        "```\n",
        "\n",
        "1. What is the output of \n",
        "```\n",
        "L = [1, 3, 3, 4,3]\n",
        "remove_forbidden_element(L, 3)\n",
        "print(L)\n",
        "```\n",
        "\n",
        "2. Does the function satisfy the following specification: \n",
        "```\n",
        "\"\"\"\n",
        "Given an input list L, and an element forbidden_element, \n",
        "`remove_forbidden_element(L, forbidden_element)` remove all occurrence of\n",
        "`forbidden_element` in L\n",
        "\"\"\"\n",
        "```\n",
        "Why? \n",
        "\n",
        "Write your answers as comments. \n"
      ],
      "metadata": {
        "id": "MBfBMtjwKLYd"
      }
    },
    {
      "cell_type": "code",
      "source": [
        "## Practice Question 7b\n"
      ],
      "metadata": {
        "id": "dsBjVES5jMx0"
      },
      "execution_count": null,
      "outputs": []
    },
    {
      "cell_type": "markdown",
      "source": [
        "## Practice Question 7c: Remove elements in a list\n",
        "\n",
        "Consider the following function: \n",
        "```\n",
        "def remove_forbidden_element(L, forbidden_element): \n",
        "  for element in L[:]: \n",
        "    if element==forbidden_element: \n",
        "      L.remove(forbidden_element)\n",
        "```\n",
        "\n",
        "1. What is the output of \n",
        "```\n",
        "L = [1, 3, 3, 4,3]\n",
        "remove_forbidden_element(L, 3)\n",
        "print(L)\n",
        "```\n",
        "\n",
        "2. Does the function satisfy the following specification: \n",
        "```\n",
        "Given an input list L, and an element forbidden_element, \n",
        "`remove_forbidden_element(L, forbidden_element)` remove all occurrence of\n",
        "`forbidden_element` in L\n",
        "```\n",
        "\n",
        "Write your answers as comments. \n"
      ],
      "metadata": {
        "id": "4xQbAOQtmP6a"
      }
    },
    {
      "cell_type": "code",
      "source": [
        "## Practice Question 7c\n"
      ],
      "metadata": {
        "id": "FivTtmIQjdl6"
      },
      "execution_count": null,
      "outputs": []
    },
    {
      "cell_type": "markdown",
      "source": [
        "## Practice Question 7d:  Remove elements in a list\n",
        "\n",
        "Consider the following function: \n",
        "```\n",
        "def remove_forbidden_element(L, forbidden_element): \n",
        "  while forbidden_element in L: \n",
        "      L.remove(forbidden_element)\n",
        "```\n",
        "\n",
        "1. What is the output of \n",
        "```\n",
        "L = [1, 3, 3, 4,3]\n",
        "remove_forbidden_element(L, 3)\n",
        "print(L)\n",
        "```\n",
        "\n",
        "2. Does the function satisfy the following specification: \n",
        "```\n",
        "Given an input list L, and an element forbidden_element, \n",
        "`remove_forbidden_element(L, forbidden_element)` remove all occurrence of\n",
        "`forbidden_element` in L\n",
        "```\n",
        "\n",
        "Write your answers as comments. \n"
      ],
      "metadata": {
        "id": "1niSMNBRmed6"
      }
    },
    {
      "cell_type": "code",
      "source": [
        "## Practice Question 7d\n"
      ],
      "metadata": {
        "id": "i85wsHITssFQ"
      },
      "execution_count": null,
      "outputs": []
    },
    {
      "cell_type": "markdown",
      "source": [
        "## Practice Question 7e:  Remove elements in a list\n",
        "\n",
        "Consider the following function: \n",
        "```\n",
        "def remove_forbidden_element(L, forbidden_element): \n",
        "  i=0\n",
        "  while i<len(L): \n",
        "    if L[i]==forbidden_element: \n",
        "      L.pop(i)\n",
        "    else: \n",
        "      i+=1\n",
        "```\n",
        "\n",
        "1. What is the output of \n",
        "```\n",
        "L = [1, 3, 3, 4,3]\n",
        "remove_forbidden_element(L, 3)\n",
        "print(L)\n",
        "```\n",
        "\n",
        "2. Does the function satisfy the following specification: \n",
        "```\n",
        "Given an input list L, and an element forbidden_element, \n",
        "`remove_forbidden_element(L, forbidden_element)` remove all occurrence of\n",
        "`forbidden_element` in L\n",
        "```\n",
        "\n",
        "Write your answers as comments. \n"
      ],
      "metadata": {
        "id": "XxoHLlt40eNn"
      }
    },
    {
      "cell_type": "code",
      "source": [
        "## Practice Question 7e\n"
      ],
      "metadata": {
        "id": "z9ruB6B60mu7"
      },
      "execution_count": null,
      "outputs": []
    },
    {
      "cell_type": "markdown",
      "source": [
        "## Practice Question 8: List comprehension \n",
        "\n",
        "What is the output of the following: \n",
        "1. `[x for x in range(5) if x%2==0]`\n",
        "2. `[x//2 for x in range(5) if x%2==0]`\n",
        "3. `[x**2 for x in range(5) if x%2==0]`\n",
        "\n",
        "Write your answers as comments. \n"
      ],
      "metadata": {
        "id": "AXrjPK0T5QdE"
      }
    },
    {
      "cell_type": "code",
      "source": [
        "## Practice Question 8\n"
      ],
      "metadata": {
        "id": "C27Llz3b5Ot1"
      },
      "execution_count": null,
      "outputs": []
    },
    {
      "cell_type": "markdown",
      "source": [
        "## Practice Question 9a:  Sublist\n",
        "Write a function `sublist(L,forbidden_element)`\n",
        "that takes an input list `L`, and an element `forbidden_element` and return the sublist of `L` with all occurrence of `forbidden_element removed`.\n",
        "\n",
        "Implement the function using loop : \n",
        "```\n",
        "Initialize a variable called result to the empty list\n",
        "Iterate over the element in L\n",
        "\tAt each iteration, if element is not equal to the forbidden_element,\n",
        "          append element to result\n",
        "return result\n",
        "\n",
        "```\n",
        "\n"
      ],
      "metadata": {
        "id": "jp_Mr0VqsdB-"
      }
    },
    {
      "cell_type": "code",
      "source": [
        "def sublist(L, forbidden_element): \n",
        "  "
      ],
      "metadata": {
        "id": "siADSzbZ0qaF"
      },
      "execution_count": null,
      "outputs": []
    },
    {
      "cell_type": "code",
      "source": [
        "L = [1, 3, 3, 4,3]\n",
        "sublist(L, 3) == [1,4] and L==[1, 3, 3, 4,3]"
      ],
      "metadata": {
        "colab": {
          "base_uri": "https://localhost:8080/"
        },
        "id": "dJmW6K5ewTBP",
        "outputId": "1c445b99-49e7-46d0-c9fb-473267c3588e"
      },
      "execution_count": null,
      "outputs": [
        {
          "output_type": "execute_result",
          "data": {
            "text/plain": [
              "True"
            ]
          },
          "metadata": {},
          "execution_count": 5
        }
      ]
    },
    {
      "cell_type": "code",
      "source": [
        "# create your own test case here"
      ],
      "metadata": {
        "id": "Fa-imZiB1oVK"
      },
      "execution_count": null,
      "outputs": []
    },
    {
      "cell_type": "markdown",
      "source": [
        "## Practice Question 9b:  Sublist\n",
        "Write a function `sublist(L,forbidden_element)`\n",
        "that takes an input list `L`, and an element `forbidden_element` and return the sublist of `L` with all occurrence of `forbidden_element removed`.\n",
        "\n",
        "Implement the function using list comprehension. "
      ],
      "metadata": {
        "id": "Hzx32wDl4I4A"
      }
    },
    {
      "cell_type": "code",
      "source": [
        "def sublist(L, forbidden_element): \n",
        "  "
      ],
      "metadata": {
        "id": "52DeShKA4m1d"
      },
      "execution_count": null,
      "outputs": []
    },
    {
      "cell_type": "code",
      "source": [
        "L = [1, 3, 3, 4,3]\n",
        "sublist(L, 3) == [1,4] and L==[1, 3, 3, 4,3]"
      ],
      "metadata": {
        "id": "ZI--uv_U40Si"
      },
      "execution_count": null,
      "outputs": []
    },
    {
      "cell_type": "code",
      "source": [
        "# create your own test case here"
      ],
      "metadata": {
        "id": "G7-Dt8XY40Sm"
      },
      "execution_count": null,
      "outputs": []
    },
    {
      "cell_type": "markdown",
      "source": [
        "------------"
      ],
      "metadata": {
        "id": "ivcuC5Bi34GT"
      }
    }
  ]
}