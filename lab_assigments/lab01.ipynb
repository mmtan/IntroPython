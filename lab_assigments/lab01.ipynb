{
  "nbformat": 4,
  "nbformat_minor": 0,
  "metadata": {
    "colab": {
      "name": "lab01.ipynb",
      "provenance": [],
      "collapsed_sections": []
    },
    "kernelspec": {
      "name": "python3",
      "display_name": "Python 3"
    },
    "language_info": {
      "name": "python"
    }
  },
  "cells": [
    {
      "cell_type": "markdown",
      "source": [
        "# CSCI 1200 Introduction to Computers and Programming Fall 2022\n",
        "#### Instructor: Ming Ming Tan\n",
        "### Lab 1, ungraded\n",
        "\n",
        "This week, we will learn using Google Colab as the primary way of practicing programming in this course.  \n",
        "\n",
        "The document that you are reading is not a static web page, but an interactive environment called a *notebook*, that lets you write and execute code. \n",
        "\n",
        "Notebooks are a great way to mix executable code with rich contents (HTML, images, equations written in LaTeX). Colab allows you to run notebooks on the cloud for free without any prior installation.  \n",
        "\n",
        "**This lab is not graded. However, as a test run, you are asked to submit the lab by following the instructions below.**\n",
        "\n",
        "Please consult with your UCAs during the lab sessions if you need help completing this lab. \n"
      ],
      "metadata": {
        "id": "zrbZT5Z9c892"
      }
    },
    {
      "cell_type": "markdown",
      "source": [
        "# Submission information\n",
        "1. <font color='red'>Before you start working on this lab, rename the file to “lab01_\\<jagId\\>.ipynb”**. Replace \"\\<jagId>\" with your jagId. For example, a student with jagId “xyz”, will rename “lab01.ipynb” to “lab01_xyz.ipynb”.</font>\n",
        " \n",
        "3. Before you turn this assignment in, make sure everything runs as expected. Go to the menu bar, click **Runtime -> Restart and run all** and check if your code executes as expected. \n",
        "4. You can discuss with others regarding the assignment but all work must be your own.\n",
        "5. Note: There will be interview grading conducted throughout the semester. Selected students will be informed via email regarding the interview grading. Interview grading is when you meet with the instructional staff to discuss a assignment that you have turned in. You will be asked to explain certain aspects of the work you did, how you would go about improving your solution, and other conceptual questions relating to the homework. \n",
        "6. To submit the assignment, do the following: \n",
        "    1.  Locate the Share button on the top right corner, share the notebook with your respective graders’ google accounts. \n",
        "    2. Click File -> Download .ipynb to download the assignment.\n",
        "    3. Submit the downloaded .ipynb file to D2L.\n",
        "\n",
        "\n",
        "It is your responsibility to ensure that your submission follows the procedure detailed above.\n",
        "\n",
        "Please consult your UCAs for any queries regarding the submission procedure.\n"
      ],
      "metadata": {
        "id": "G5ODwsxfdrVQ"
      }
    },
    {
      "cell_type": "markdown",
      "source": [
        "# Getting Started\n",
        "\n",
        "Notebooks consist of so-called **code cells**. \n",
        "\n",
        "A code cell is where you write your code. To execute the code, move your mouse pointer over the code cell and press the **run** button that will appear on the left side of the code cell. Alternatively, you can click to move your keyboard cursor to the code cell and execute the code by pressing \"Shift-Enter\".\n",
        "\n",
        "For example, here is a code cell that computes the number of seconds in a day. "
      ],
      "metadata": {
        "id": "Ky9ARCIhgBTn"
      }
    },
    {
      "cell_type": "code",
      "execution_count": null,
      "metadata": {
        "colab": {
          "base_uri": "https://localhost:8080/"
        },
        "id": "qgadbLj8bdNm",
        "outputId": "e86fe28e-94ff-4092-9281-8a625d2d4eac"
      },
      "outputs": [
        {
          "output_type": "execute_result",
          "data": {
            "text/plain": [
              "86400"
            ]
          },
          "metadata": {},
          "execution_count": 1
        }
      ],
      "source": [
        "24*60*60"
      ]
    },
    {
      "cell_type": "markdown",
      "source": [
        "In the following code cell, compute the number of seconds in a week. The output should be 604800. "
      ],
      "metadata": {
        "id": "MmSWKf-0l7VN"
      }
    },
    {
      "cell_type": "code",
      "source": [
        ""
      ],
      "metadata": {
        "id": "aGJug-c3dpmW"
      },
      "execution_count": null,
      "outputs": []
    },
    {
      "cell_type": "markdown",
      "source": [
        "## Experiments with reading code"
      ],
      "metadata": {
        "id": "j8039YqDqKBF"
      }
    },
    {
      "cell_type": "markdown",
      "source": [
        "Python is a high level programming language. \n",
        "It is easy to understand and to learn. \n",
        "\n",
        "As an experiment, run the following code cells to execute the code. \n",
        "\n",
        "For each of the code cells, check if you can figure out what each of the code fragments compute. \n",
        "\n",
        "Remarks:\n",
        "We have not yet learned the formal syntax used in this code, but it should be intuitively clear what it computes."
      ],
      "metadata": {
        "id": "GIhL3gq1mwGK"
      }
    },
    {
      "cell_type": "code",
      "source": [
        "print(\"Hello\")"
      ],
      "metadata": {
        "colab": {
          "base_uri": "https://localhost:8080/"
        },
        "id": "88ctsi6to--c",
        "outputId": "84ecb8a9-533d-4938-fe36-323ece9398ff"
      },
      "execution_count": null,
      "outputs": [
        {
          "output_type": "stream",
          "name": "stdout",
          "text": [
            "Hello\n"
          ]
        }
      ]
    },
    {
      "cell_type": "code",
      "source": [
        "print(\"Hello\" + \"World\")"
      ],
      "metadata": {
        "colab": {
          "base_uri": "https://localhost:8080/"
        },
        "id": "ILCYtV79pRVq",
        "outputId": "6684891a-5196-4b2d-95ac-5a253f6c93b5"
      },
      "execution_count": null,
      "outputs": [
        {
          "output_type": "stream",
          "name": "stdout",
          "text": [
            "HelloWorld\n"
          ]
        }
      ]
    },
    {
      "cell_type": "code",
      "source": [
        "print(\"Hello\" + \" \" + \"World\")"
      ],
      "metadata": {
        "colab": {
          "base_uri": "https://localhost:8080/"
        },
        "id": "3EWk-vEGpAm0",
        "outputId": "0cd46cdc-d741-4288-c442-c2005d227fb0"
      },
      "execution_count": null,
      "outputs": [
        {
          "output_type": "stream",
          "name": "stdout",
          "text": [
            "Hello World\n"
          ]
        }
      ]
    },
    {
      "cell_type": "code",
      "source": [
        "1200+1200"
      ],
      "metadata": {
        "colab": {
          "base_uri": "https://localhost:8080/"
        },
        "id": "sQEvrYnzpE9-",
        "outputId": "f7847db6-3d46-47f0-e14b-8a892e3cce8c"
      },
      "execution_count": null,
      "outputs": [
        {
          "output_type": "execute_result",
          "data": {
            "text/plain": [
              "2400"
            ]
          },
          "metadata": {},
          "execution_count": 10
        }
      ]
    },
    {
      "cell_type": "code",
      "source": [
        "1200-1200"
      ],
      "metadata": {
        "colab": {
          "base_uri": "https://localhost:8080/"
        },
        "id": "beXhnlBHpez3",
        "outputId": "315346c2-8eb0-41fd-b916-deeabc3fb429"
      },
      "execution_count": null,
      "outputs": [
        {
          "output_type": "execute_result",
          "data": {
            "text/plain": [
              "0"
            ]
          },
          "metadata": {},
          "execution_count": 14
        }
      ]
    },
    {
      "cell_type": "code",
      "source": [
        "1200*1200"
      ],
      "metadata": {
        "colab": {
          "base_uri": "https://localhost:8080/"
        },
        "id": "zt9t_T02pXkV",
        "outputId": "2fae9c2d-f0b9-4e3b-dcc7-ee303e0d7e14"
      },
      "execution_count": null,
      "outputs": [
        {
          "output_type": "execute_result",
          "data": {
            "text/plain": [
              "1440000"
            ]
          },
          "metadata": {},
          "execution_count": 11
        }
      ]
    },
    {
      "cell_type": "code",
      "source": [
        "1200**2"
      ],
      "metadata": {
        "colab": {
          "base_uri": "https://localhost:8080/"
        },
        "id": "0Qp_VYMopZMN",
        "outputId": "98c03e92-584f-4482-9737-a0751dbc551f"
      },
      "execution_count": null,
      "outputs": [
        {
          "output_type": "execute_result",
          "data": {
            "text/plain": [
              "1440000"
            ]
          },
          "metadata": {},
          "execution_count": 12
        }
      ]
    },
    {
      "cell_type": "code",
      "source": [
        "1200/7"
      ],
      "metadata": {
        "colab": {
          "base_uri": "https://localhost:8080/"
        },
        "id": "Nv-LQR2apakj",
        "outputId": "d00c342f-2b42-4185-f43c-a32bd2b6fad7"
      },
      "execution_count": null,
      "outputs": [
        {
          "output_type": "execute_result",
          "data": {
            "text/plain": [
              "171.42857142857142"
            ]
          },
          "metadata": {},
          "execution_count": 20
        }
      ]
    },
    {
      "cell_type": "code",
      "source": [
        "1200//7"
      ],
      "metadata": {
        "colab": {
          "base_uri": "https://localhost:8080/"
        },
        "id": "YLGqaK5uraK-",
        "outputId": "b21d2661-83c5-4188-9d25-b65dd46e16ef"
      },
      "execution_count": null,
      "outputs": [
        {
          "output_type": "execute_result",
          "data": {
            "text/plain": [
              "171"
            ]
          },
          "metadata": {},
          "execution_count": 21
        }
      ]
    },
    {
      "cell_type": "markdown",
      "source": [
        "When you run the following code cell, you will be prompted to provide an input. (A box will appear with a blinking cursor, awaiting for your input). Type something (for example, your name) in the box. "
      ],
      "metadata": {
        "id": "SxQESgFnqo7N"
      }
    },
    {
      "cell_type": "code",
      "source": [
        "print('Enter your name:')\n",
        "name = input()\n",
        "print('Hello, ' + name)"
      ],
      "metadata": {
        "colab": {
          "base_uri": "https://localhost:8080/"
        },
        "id": "2omFKK84pckn",
        "outputId": "a8478eed-a92f-4f20-c93b-3ce1b9d10983"
      },
      "execution_count": null,
      "outputs": [
        {
          "output_type": "stream",
          "name": "stdout",
          "text": [
            "Enter your name:\n",
            "hello\n",
            "Hello, hello\n"
          ]
        }
      ]
    },
    {
      "cell_type": "code",
      "source": [
        "course = \"csci1200\"\n",
        "print(course)\n",
        "print(\"Welcome to \" + course)"
      ],
      "metadata": {
        "colab": {
          "base_uri": "https://localhost:8080/"
        },
        "id": "QSdfKoT8tXcA",
        "outputId": "c5049d3b-0e40-4577-b982-3f5607a40e12"
      },
      "execution_count": null,
      "outputs": [
        {
          "output_type": "stream",
          "name": "stdout",
          "text": [
            "csci1200\n",
            "Welcome to csci1200\n"
          ]
        }
      ]
    },
    {
      "cell_type": "code",
      "source": [
        "3>2"
      ],
      "metadata": {
        "colab": {
          "base_uri": "https://localhost:8080/"
        },
        "id": "xyMtw3HIurre",
        "outputId": "ef99e4ff-0ab3-48cc-cd9c-4057f8b89ccf"
      },
      "execution_count": null,
      "outputs": [
        {
          "output_type": "execute_result",
          "data": {
            "text/plain": [
              "True"
            ]
          },
          "metadata": {},
          "execution_count": 27
        }
      ]
    },
    {
      "cell_type": "code",
      "source": [
        "3<2"
      ],
      "metadata": {
        "colab": {
          "base_uri": "https://localhost:8080/"
        },
        "id": "FmW0EkNqvUDU",
        "outputId": "5c9b2863-c75f-4fa8-f96c-d6a5ae02cd1b"
      },
      "execution_count": null,
      "outputs": [
        {
          "output_type": "execute_result",
          "data": {
            "text/plain": [
              "False"
            ]
          },
          "metadata": {},
          "execution_count": 28
        }
      ]
    },
    {
      "cell_type": "code",
      "source": [
        "(12/4)==3"
      ],
      "metadata": {
        "colab": {
          "base_uri": "https://localhost:8080/"
        },
        "id": "Az5zbG3VvVKY",
        "outputId": "794783eb-6c77-462b-8512-79565f2837f1"
      },
      "execution_count": null,
      "outputs": [
        {
          "output_type": "execute_result",
          "data": {
            "text/plain": [
              "True"
            ]
          },
          "metadata": {},
          "execution_count": 29
        }
      ]
    },
    {
      "cell_type": "code",
      "source": [
        "# This is called a comment. Anything written after the # in the same line will not be executed. Comments can be used to provide further explanations of the code. "
      ],
      "metadata": {
        "id": "9rLH_E4wwdD-"
      },
      "execution_count": null,
      "outputs": []
    },
    {
      "cell_type": "code",
      "source": [
        "help(print)"
      ],
      "metadata": {
        "colab": {
          "base_uri": "https://localhost:8080/"
        },
        "id": "NiIXj95zzyUw",
        "outputId": "2583632e-1a3d-4f97-a214-b930cae1f3cc"
      },
      "execution_count": null,
      "outputs": [
        {
          "output_type": "stream",
          "name": "stdout",
          "text": [
            "Help on built-in function print in module builtins:\n",
            "\n",
            "print(...)\n",
            "    print(value, ..., sep=' ', end='\\n', file=sys.stdout, flush=False)\n",
            "    \n",
            "    Prints the values to a stream, or to sys.stdout by default.\n",
            "    Optional keyword arguments:\n",
            "    file:  a file-like object (stream); defaults to the current sys.stdout.\n",
            "    sep:   string inserted between values, default a space.\n",
            "    end:   string appended after the last value, default a newline.\n",
            "    flush: whether to forcibly flush the stream.\n",
            "\n"
          ]
        }
      ]
    },
    {
      "cell_type": "markdown",
      "source": [
        "## Solution\n",
        "\n",
        "1. `print` is a function that takes an input and displays the input on the console. \n",
        "2. Given two strings such as \"Hello\" and \"World\", the `+` operator concatenates both strings into one string \"HelloWord\", without any space. \n",
        "3. When applied to two numbers, the `+` operator adds the two numbers. \n",
        "4. The `-` operator performs substraction. \n",
        "5. The `*` operator performs multiplication. \n",
        "6. The `**` operator performs exponentiation. (For example, `2**3` computes 2 to the power of 3, which is 8. \n",
        "7. The `/` operator performs division. \n",
        "8. The `//` operator performs floor division. (That is, the result omits all decimal points). \n",
        "9. `input` is a method that prompts user input. \n",
        "10. `=` is used to assign a value to a variable. (For example, `course=\"csci1200\"` assigns the string \"csci1200\" to the variable `course`. \n",
        "11. `<` checks if the number on the left is less than the number on the right. \n",
        "12. `>` checks if the number on the right is greater than the number on the left. \n",
        "13. `==` checks if the numbers on both sides are equal. \n",
        "14. the `help` function invokes the interactive built-in help system. If the argument is a string, then the string is treated as the name of a module, function, class, keyword, or documentation topic, and a help page is printed.\n"
      ],
      "metadata": {
        "id": "dtAkHmIbtTrf"
      }
    },
    {
      "cell_type": "markdown",
      "source": [
        "# Functions"
      ],
      "metadata": {
        "id": "JtmTJWfQrGXU"
      }
    },
    {
      "cell_type": "markdown",
      "source": [
        "The purpose of this section is to help you understand how to correctly test your code and format it for grading.\n",
        "\n",
        "For this example, you need to write a Python function that computes the sum of two numbers.\n",
        "\n",
        "We won't discuss the details of functions yet, and only teach you some basics. The variables in the first line are the ones you are given---in this case, `x` and `y`. The variables after the `return` statement are the ones you need to create. In this example, we want to find the sum of x and y, and call it s. Therefore the code we need to write is just: `s = x + y`.\n",
        "\n",
        "It is also important to note that all of the code in the cell is indented. You will need to write your code so that it is in vertically aligned with the `return` statement (The notebook should do this automatically, but it is nevertheless important to understand.)."
      ],
      "metadata": {
        "id": "S7o2WRDgmc0n"
      }
    },
    {
      "cell_type": "markdown",
      "source": [
        "Replace the line `# Your code here` with `s = x+y` in the following code cell.\n",
        "\n"
      ],
      "metadata": {
        "id": "KUY85KanxEDf"
      }
    },
    {
      "cell_type": "code",
      "source": [
        "def add(x, y):  # The variables x and y here are the ones that you are given to work with\n",
        "    \n",
        "    # Your code here.\n",
        "    \n",
        "    return s # the variable after the 'return' statement is the one you need to create."
      ],
      "metadata": {
        "id": "aAH-23-omK7Z"
      },
      "execution_count": null,
      "outputs": []
    },
    {
      "cell_type": "markdown",
      "source": [
        "To test your function, type `add(2,3)` in the following code cell and run it. \n",
        "You should get 5 as output. "
      ],
      "metadata": {
        "id": "Pxcid58wxa0x"
      }
    },
    {
      "cell_type": "code",
      "source": [
        ""
      ],
      "metadata": {
        "id": "XheUQoQcw9zg"
      },
      "execution_count": null,
      "outputs": []
    },
    {
      "cell_type": "markdown",
      "source": [
        "You should test with more examples. Create a new code cell for each of the test cases below and check if the output is as intended.\n",
        "* `add(3,2)`\n",
        "* `add(-3,2)`\n",
        "* `add(0,10)`\n",
        "\n",
        "Remark: To create a new code cell, move your mouse cursor between the two existing cells where you would like to insert a new code cell, and click \"+ Code\". Consult with your UCA if you need help.\n"
      ],
      "metadata": {
        "id": "-Fy27zfOx3zU"
      }
    },
    {
      "cell_type": "markdown",
      "source": [
        "# Test cells\n",
        "For grading, we will create \"test\" cells. \n",
        "\n",
        "The two cells below are test cells.\n",
        "\n",
        "If you have completed the code for the `add` function above (and executed the code cell that it is in), then these two cells should evaluate to `True` when you run them. If not, modify your code cell above, rerun it, and try the tests again. "
      ],
      "metadata": {
        "id": "aoXuylUixyZe"
      }
    },
    {
      "cell_type": "code",
      "source": [
        "add(3,2)==5 # This should evaluate to \"True\" when run"
      ],
      "metadata": {
        "id": "5lUvM5l9xWHC"
      },
      "execution_count": null,
      "outputs": []
    },
    {
      "cell_type": "code",
      "source": [
        "add(-2,1)==-1 # Another test cell"
      ],
      "metadata": {
        "id": "EdXUkYdgzPFI"
      },
      "execution_count": null,
      "outputs": []
    },
    {
      "cell_type": "code",
      "source": [
        "add(1789+9087)=10876 # Another test cell"
      ],
      "metadata": {
        "id": "VJ_BUClmzTtF"
      },
      "execution_count": null,
      "outputs": []
    },
    {
      "cell_type": "markdown",
      "source": [
        "# Question 1\n",
        "\n",
        "Write a Python function that computes the multiplication of two numbers."
      ],
      "metadata": {
        "id": "LOmKHiVhzrJp"
      }
    },
    {
      "cell_type": "code",
      "source": [
        "def multiply(x, y):  \n",
        "    \n",
        "    result = # Your code here.\n",
        "    \n",
        "    return result"
      ],
      "metadata": {
        "id": "3nj43sRZzuGA"
      },
      "execution_count": null,
      "outputs": []
    },
    {
      "cell_type": "markdown",
      "source": [
        "Check your code by running the following test cells. The test cells should evaluate to 'True' when you run them. If not, modify your code cell above, rerun it, and try the tests again."
      ],
      "metadata": {
        "id": "DwRU8Cbv01lY"
      }
    },
    {
      "cell_type": "code",
      "source": [
        "multiply(2,3) == 6"
      ],
      "metadata": {
        "id": "AWU5mSTW0xVE"
      },
      "execution_count": null,
      "outputs": []
    },
    {
      "cell_type": "code",
      "source": [
        "multiply(-1,-1)== 1"
      ],
      "metadata": {
        "id": "0-auxrkZ0_7d"
      },
      "execution_count": null,
      "outputs": []
    },
    {
      "cell_type": "code",
      "source": [
        "multiply(-1, 9) == -9"
      ],
      "metadata": {
        "id": "H4B1IeqK1CiX"
      },
      "execution_count": null,
      "outputs": []
    },
    {
      "cell_type": "code",
      "source": [
        "multiply (1789, 6789) == 12145521"
      ],
      "metadata": {
        "id": "CYHu25TO1HXx"
      },
      "execution_count": null,
      "outputs": []
    },
    {
      "cell_type": "markdown",
      "source": [
        "# Question 2\n",
        "\n",
        "Write a Python function that takes an input integer `n` and returns the number of seconds in `n` days.\n",
        "\n"
      ],
      "metadata": {
        "id": "7MUPGV5d1Xpe"
      }
    },
    {
      "cell_type": "code",
      "source": [
        "def number_of_seconds(n): \n",
        "    \n",
        "    result = # Your code here.\n",
        "    \n",
        "    return result "
      ],
      "metadata": {
        "id": "Na9Na3RP1Qiv"
      },
      "execution_count": null,
      "outputs": []
    },
    {
      "cell_type": "code",
      "source": [
        "number_of_seconds(1) == 86400"
      ],
      "metadata": {
        "id": "_1hKyUqo1Lml"
      },
      "execution_count": null,
      "outputs": []
    },
    {
      "cell_type": "code",
      "source": [
        "number_of_seconds(12) == 1036800"
      ],
      "metadata": {
        "id": "ajMBcLDY2WM2"
      },
      "execution_count": null,
      "outputs": []
    },
    {
      "cell_type": "markdown",
      "source": [
        "# Question 3\n",
        "\n",
        "Write a Python function that takes an input integer `r` and returns the circumference (the arc length) of the circle with radius equals to `r`. \n",
        "\n",
        "Hint: The circumference is 2$\\pi$r.\n",
        "\n"
      ],
      "metadata": {
        "id": "namrJOneB5TR"
      }
    },
    {
      "cell_type": "code",
      "source": [
        "# Import math Library\n",
        "import math\n",
        "\n",
        "# Print the value of pi\n",
        "print (math.pi)"
      ],
      "metadata": {
        "colab": {
          "base_uri": "https://localhost:8080/"
        },
        "id": "Oj2K-vzo8oXG",
        "outputId": "95c9a1e8-1401-4a6f-f44c-e1076eaeb161"
      },
      "execution_count": 3,
      "outputs": [
        {
          "output_type": "stream",
          "name": "stdout",
          "text": [
            "3.141592653589793\n"
          ]
        }
      ]
    },
    {
      "cell_type": "code",
      "source": [
        "def circle_circumference(r): \n",
        "    \n",
        "    result = # Your code here\n",
        "    \n",
        "    return result "
      ],
      "metadata": {
        "id": "MtMvJP8zB5EM"
      },
      "execution_count": 4,
      "outputs": []
    },
    {
      "cell_type": "code",
      "source": [
        "round(circle_circumference(3),2)==18.85"
      ],
      "metadata": {
        "id": "NxTgvPDr-FgB"
      },
      "execution_count": null,
      "outputs": []
    },
    {
      "cell_type": "code",
      "source": [
        "round(circle_circumference(7),2)==43.98"
      ],
      "metadata": {
        "id": "amcWQF4z-hlo"
      },
      "execution_count": null,
      "outputs": []
    },
    {
      "cell_type": "markdown",
      "source": [
        "# Question 4\n",
        "\n",
        "In this course, we will rarely write program that ask users for input. \n",
        "In the following program, we ask users for an input on the number of adults and children for entrance ticket to the theme park, and compute the total ticket price. \n",
        "\n",
        "Complete the code. \n"
      ],
      "metadata": {
        "id": "C9PiRQSADKnd"
      }
    },
    {
      "cell_type": "code",
      "source": [
        "print(\"The ticket price for adult is $12 and for children is $6.\")\n",
        "\n",
        "# number of adults input by user\n",
        "adult_num = input(\"Number of adults:\") \n",
        "# total ticket price for adults\n",
        "adult_price = int(adult_num)*12 \n",
        "\n",
        "# number of children input by user\n",
        "children_num =  # Your code here\n",
        "# total ticket price for children\n",
        "children_price = # Your code here\n",
        "\n",
        "# sum of total ticke price for adults and children\n",
        "total_price = # Your code here\n",
        "\n",
        "print(\"The total ticket price is\", total_price)"
      ],
      "metadata": {
        "id": "SxKeKrmLDsya"
      },
      "execution_count": null,
      "outputs": []
    }
  ]
}