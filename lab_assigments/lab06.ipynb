{
  "nbformat": 4,
  "nbformat_minor": 0,
  "metadata": {
    "colab": {
      "provenance": [],
      "collapsed_sections": []
    },
    "kernelspec": {
      "name": "python3",
      "display_name": "Python 3"
    },
    "language_info": {
      "name": "python"
    }
  },
  "cells": [
    {
      "cell_type": "markdown",
      "source": [
        "# CSCI 1200 Introduction to Computers and Programming Fall 2022\n",
        "#### Instructor: Ming Ming Tan, UCAs: TBA\n",
        "### Lab 6, ungraded\n",
        "\n",
        "The purpose of this lab is to:\n",
        "\n",
        "* Practice implementing exhausive enumeration\n",
        "* Practice developing approximation algorithm\n",
        "* Practice developing your own algorithms to solve more complex problems\n",
        " \n",
        "\n",
        "**This lab is not graded. However, you are asked to submit the lab by following the instructions below.**\n",
        "\n",
        "Please consult with your UCAs during the lab sessions if you need help completing this lab. \n"
      ],
      "metadata": {
        "id": "zrbZT5Z9c892"
      }
    },
    {
      "cell_type": "markdown",
      "source": [
        "# Submission information\n",
        "1. <font color='red'>Before you start working on this lab, rename the file to **“lab06_\\<lastName without space>_\\<first letter of your first name\\>.ipynb”**. For example, a student with last name Smith and first name James will rename “lab06.ipynb” to “lab06_smithJ.ipynb”.</font>\n",
        "2. Before you turn this assignment in, make sure everything runs as expected. Go to the menu bar, click **Runtime -> Restart and run all** and check if your code executes as expected. \n",
        "3. You can discuss with others regarding the assignment but **all work must be your own.**\n",
        "4. Note: There will be interview grading conducted throughout the semester. Selected students will be informed via email regarding the interview grading. Interview grading is when you meet with the instructional staff to discuss a assignment that you have turned in. You will be asked to explain certain aspects of the work you did, how you would go about improving your solution, and other conceptual questions relating to the homework. \n",
        "5. To submit the assignment, do the following: \n",
        "    1. Click File -> Download .ipynb to download the assignment.\n",
        "    2. Submit the downloaded .ipynb file to D2L.\n",
        "\n",
        "\n",
        "It is your responsibility to ensure that your submission follows the procedure detailed above.\n",
        "\n",
        "Please consult your UCAs for any queries regarding the submission procedure.\n"
      ],
      "metadata": {
        "id": "G5ODwsxfdrVQ"
      }
    },
    {
      "cell_type": "markdown",
      "source": [
        "## Recap Question 1\n",
        "Write an implementation for the function `search` which takes an element `x` and a list `L` and return `True` if `x` is in `L`, following the following algorithm: \n",
        "\n",
        "```\n",
        "Iterate all elements in the list L. \n",
        "     At each iteration, check if the element is equal to x. \n",
        "     If yes, return True. \n",
        "Return False\n",
        "```"
      ],
      "metadata": {
        "id": "U3oq8ahO7TjS"
      }
    },
    {
      "cell_type": "code",
      "source": [
        "def search(x,L): \n",
        "  "
      ],
      "metadata": {
        "id": "ohtOHMhh7S-a"
      },
      "execution_count": null,
      "outputs": []
    },
    {
      "cell_type": "markdown",
      "source": [
        "## Recap Question 2\n",
        "Write a Python function `divisor` that takes a positive integer 𝑥 and a list of integers 𝐿 as inputs, and return the first element in the list that can divide 𝑥. If no element in 𝐿 divides 𝑥, return -1."
      ],
      "metadata": {
        "id": "g5zw1kRU724k"
      }
    },
    {
      "cell_type": "code",
      "source": [
        "def divisor(x,L): \n",
        "  "
      ],
      "metadata": {
        "id": "qvEdBkEv724k"
      },
      "execution_count": null,
      "outputs": []
    },
    {
      "cell_type": "markdown",
      "source": [
        "## Practice Question 1a\n",
        "\n",
        "Complete the Python function `integer_cube_root` that takes in a positive integer $x$ and return the integer cube root of $x$. If there is no integer cube root of $x$, return None. \n",
        "\n",
        "For example, cube root of $27$ is $3$. \n",
        "\n",
        "Implement the function using the following algorithm: \n",
        "```\n",
        "Iterate r from 1 to x. \n",
        "     At each iteration, check if r**3 is equal to x. If yes, return r. \n",
        "Return None.\n",
        "\n",
        "```\n"
      ],
      "metadata": {
        "id": "OOL0yLaMuiz7"
      }
    },
    {
      "cell_type": "code",
      "source": [
        "# Input: Positive integer x\n",
        "# Output: A positive integer or None\n",
        "def integer_cube_root(x): \n"
      ],
      "metadata": {
        "id": "FxJLPGc7KryH"
      },
      "execution_count": null,
      "outputs": []
    },
    {
      "cell_type": "code",
      "source": [
        "integer_cube_root(27)"
      ],
      "metadata": {
        "id": "tvldJX8hJ_Kv",
        "colab": {
          "base_uri": "https://localhost:8080/"
        },
        "outputId": "2b8c9d9c-0bba-47c9-fa2c-165fd8f3b2cf"
      },
      "execution_count": null,
      "outputs": [
        {
          "output_type": "execute_result",
          "data": {
            "text/plain": [
              "3"
            ]
          },
          "metadata": {},
          "execution_count": 2
        }
      ]
    },
    {
      "cell_type": "markdown",
      "source": [
        "## Practice Question 1b\n",
        "\n",
        "Complete the Python function `integer_cube_root` that takes in a positive integer $x$ and return the integer cube root of $x$. If there is no integer cube root of $x$, return None. \n",
        "\n",
        "For example, cube root of $27$ is $3$. \n",
        "\n",
        "Implement the function using the following algorithm: \n",
        "```\n",
        "Iterate r from 1 to x. \n",
        "     At each iteration, check if r**3 is equal to x. If yes, return r. \n",
        "     otherwise if r**3 is greater than x,  exit the loop\n",
        "Return None.\n",
        "```"
      ],
      "metadata": {
        "id": "hQP8aXEt8ynI"
      }
    },
    {
      "cell_type": "code",
      "source": [
        "# Input: Positive integer x\n",
        "# Output: A positive integer or None\n",
        "def integer_cube_root(x): \n"
      ],
      "metadata": {
        "id": "GYsb0ruFtso1"
      },
      "execution_count": null,
      "outputs": []
    },
    {
      "cell_type": "code",
      "source": [
        "integer_cube_root(1789826)"
      ],
      "metadata": {
        "id": "qgOb5frp2L78"
      },
      "execution_count": null,
      "outputs": []
    },
    {
      "cell_type": "code",
      "source": [
        "integer_cube_root(27)"
      ],
      "metadata": {
        "id": "cGiFznOh8wk4"
      },
      "execution_count": null,
      "outputs": []
    },
    {
      "cell_type": "markdown",
      "source": [
        "## Practice Question 1c\n",
        "\n",
        "Write your answers as comments.\n",
        "1. Is the algorithm in Practice Question 1b correct? Why? \n",
        "2. Which algorithm has lower number of iterations? \n",
        "3. Use `%time` to find the execution time for `integer_cube_root(27)` in both implementations. \n",
        "4. Find the number of iteration for `integer_cube_root(1789826)` in both implementations. (Hint: Create a new variable `iter` that initialises to 0, and at every iteration, increment `iter` by 1. Before returning the result, print the value of `iter`. )\n"
      ],
      "metadata": {
        "id": "lUmnMbhY8-g9"
      }
    },
    {
      "cell_type": "code",
      "source": [],
      "metadata": {
        "id": "AjaulrkeDEVH"
      },
      "execution_count": null,
      "outputs": []
    },
    {
      "cell_type": "markdown",
      "source": [
        "## Practice Question 2a\n",
        "Write a Python function `integer_cube_root` that takes in an integer $x$ and return the integer cube root of $x$. If there is no integer cube root of $x$, return None. \n",
        "\n",
        "For example, cube root of $-27$ is $-3$. \n",
        "\n",
        "Implement the function using the following algorithm:\n",
        "```\n",
        "If x is positive\n",
        "  Iterate r from 1 to x. \n",
        "    At each iteration, check if r**3 is equal to x. \n",
        "    If yes, return r. Otherwise if r**3 is greater than x,  exit the loop\n",
        "  Return None.\n",
        "If x is negative\n",
        "  Iterate r from 0 to –x.\n",
        "    At each iteration, check if r**3 is equal to x. \n",
        "    If yes, return r. Otherwise if r**3 is less than x, exit the loop.\n",
        "  Return None\n",
        "```"
      ],
      "metadata": {
        "id": "ODeBT3Lg-rMz"
      }
    },
    {
      "cell_type": "code",
      "source": [
        "# Input: An integer x\n",
        "# Output: An integer or None\n",
        "def integer_cube_root(x): \n"
      ],
      "metadata": {
        "id": "PYVItBzk_a8c"
      },
      "execution_count": null,
      "outputs": []
    },
    {
      "cell_type": "code",
      "source": [
        "# create your own test case here"
      ],
      "metadata": {
        "id": "d5zSb7Ec_h9c"
      },
      "execution_count": null,
      "outputs": []
    },
    {
      "cell_type": "markdown",
      "source": [
        "## Practice Question 2b\n",
        "Write a Python function `integer_cube_root` that takes in an integer $x$ and return the integer cube root of $x$. If there is no integer cube root of $x$, return None. \n",
        "\n",
        "For example, cube root of $-27$ is $-3$. \n",
        "\n",
        "Implement the function using the following algorithm:\n",
        "``` \n",
        "y = abs(x)\n",
        "Run iteration on r from 0 to y. \n",
        "At each iteration, check if r**3 is equal to y. \n",
        "     If yes, return r if x is positive and return –r if x is negative.\n",
        "     otherwise if r**3 is greater than y, exit the loop.\n",
        "Return None.\n",
        "```"
      ],
      "metadata": {
        "id": "8XFgsxatR6AD"
      }
    },
    {
      "cell_type": "code",
      "source": [
        "# Input: An integer x\n",
        "# Output: An integer or None\n",
        "def integer_cube_root(x): \n",
        "\n"
      ],
      "metadata": {
        "id": "moFJAf6uQE8e"
      },
      "execution_count": null,
      "outputs": []
    },
    {
      "cell_type": "code",
      "source": [
        "# create your own test case here"
      ],
      "metadata": {
        "id": "x5Zv3YZUSwY4"
      },
      "execution_count": null,
      "outputs": []
    },
    {
      "cell_type": "markdown",
      "source": [
        "## Practice Question 2c\n",
        "\n",
        "Write your answers as comments.\n",
        "1. Is the algorithm in Practice Question 2b correct? Why? \n",
        "2. Which algorithm has lower number of iterations? \n",
        "3. Use `%time` to find the execution time for both `integer_cube_root(18982)` in both implementations."
      ],
      "metadata": {
        "id": "Uxyx9uWpDjsx"
      }
    },
    {
      "cell_type": "code",
      "source": [],
      "metadata": {
        "id": "j-ZwWks9DswU"
      },
      "execution_count": null,
      "outputs": []
    },
    {
      "cell_type": "markdown",
      "source": [
        "## Practice Question 3a\n",
        "Write a Python function that takes a positive integer $x$ as input and returns `True` if $x$ is a prime, else it returns `False`. \n",
        "A positive integer $x$ is a prime if the only divisors of $x$ is $1$ and $x$ itself. \n",
        "\n",
        "For example, $13$ is a prime number but $16$ is not. \n",
        "\n",
        "Implement your function using the following algorithm: \n",
        "```\n",
        "Iterate p from 2 to x-1\n",
        "     At each iteration, check if p divides x. \n",
        "     If yes, return False. \n",
        "Return True.\n",
        "```"
      ],
      "metadata": {
        "id": "M3V6GuxhTBrU"
      }
    },
    {
      "cell_type": "code",
      "source": [
        "def isPrime(x):\n"
      ],
      "metadata": {
        "id": "JSsmyyPU_0pi"
      },
      "execution_count": null,
      "outputs": []
    },
    {
      "cell_type": "code",
      "source": [
        "# create your own test case here"
      ],
      "metadata": {
        "id": "g9gG0A8gAFNM"
      },
      "execution_count": null,
      "outputs": []
    },
    {
      "cell_type": "markdown",
      "source": [
        "## Practice Question 3b\n",
        "Write a Python function that takes a positive integer $x$ as input and returns `True` if $x$ is a prime, else it returns `False`. \n",
        "A positive integer $x$ is a prime if the only divisors of $x$ is $1$ and $x$ itself. \n",
        "\n",
        "For example, $13$ is a prime number but $16$ is not. \n",
        "\n",
        "Implement your function using the following algorithm: \n",
        "```\n",
        "If x is 2, return True.\n",
        "Otherwise (x>2) if x is even, return False.\n",
        "Run an iteration on p from 3 to x-1, skipping even values . \n",
        "\tAt each iteration, check if p divides x. If yes, return False. \n",
        "Return True.\n",
        "```"
      ],
      "metadata": {
        "id": "pJ07DkcH_51x"
      }
    },
    {
      "cell_type": "code",
      "source": [
        "def isPrime(x):\n"
      ],
      "metadata": {
        "id": "tIFOF_STR_-r"
      },
      "execution_count": null,
      "outputs": []
    },
    {
      "cell_type": "code",
      "source": [
        "# create your own test case here"
      ],
      "metadata": {
        "id": "rxmI2vEXBsq7"
      },
      "execution_count": null,
      "outputs": []
    },
    {
      "cell_type": "markdown",
      "source": [
        "## Practice Question 3c\n",
        "\n",
        "Write your answers as comments.\n",
        "1. Is the algorithm in Practice Question 3b correct? Why? \n",
        "2. Which algorithm has lower number of iterations? \n",
        "3. Use `%time` to find the execution time for both `isPrime(1789812789)` in both implementations. "
      ],
      "metadata": {
        "id": "7YN9mjB1AQM-"
      }
    },
    {
      "cell_type": "code",
      "source": [],
      "metadata": {
        "id": "Ag7sJ8jtBqy1"
      },
      "execution_count": null,
      "outputs": []
    },
    {
      "cell_type": "markdown",
      "source": [
        "## Practice Question 4a \n",
        "\n",
        "Write a Python function `cube_root` that takes in a positive integer $x$ and return the cube root of $x$.\n",
        "\n",
        "Remark: It is sufficient to return the value $r$ such that $r^3$ is \"close\" to $x$ within 0.001, that is $|r^3-x|<0.01$.\n",
        "\n",
        "Implement the function using the following algorithm: \n",
        "```\n",
        "r = 1\n",
        "Run iteration on r as long as r<=x\n",
        "     At each iteration, check if r**3 is close to x  (the error |r**3-x| is small, say 0.01). \n",
        "     If yes, return r. \n",
        "     else add 0.001 to r.\n",
        "(If at the end of the iteration, no such root is found, display a message that root is not found in the search space) \n",
        "```"
      ],
      "metadata": {
        "id": "iBMYd25aX06c"
      }
    },
    {
      "cell_type": "code",
      "source": [
        "# Input x in positive integer\n",
        "def cube_root(x): \n"
      ],
      "metadata": {
        "id": "KBJEGDR7ZvB2"
      },
      "execution_count": null,
      "outputs": []
    },
    {
      "cell_type": "code",
      "source": [
        "# create your own test case here"
      ],
      "metadata": {
        "id": "eDSx-BgTBp32"
      },
      "execution_count": null,
      "outputs": []
    },
    {
      "cell_type": "markdown",
      "source": [
        "## Practice Question 4b \n",
        "\n",
        "Write a Python function `cube_root` that takes in a positive integer $x$ and return the cube root of $x$.\n",
        "\n",
        "Remark: It is sufficient to return the value $r$ such that $r^3$ is \"close\" to $x$ within 0.01, that is $|r^3-x|<0.01$.\n",
        "\n",
        "Implement the function using the following strategy:\n",
        "```\n",
        "Find the largest integer r such that r**3 is less than x.\n",
        "       Search space is 1, 2, 3, …\n",
        "Starting from this integer r, we search for the cube root. \n",
        "       Search space is r, r+0.001, r+0.002, …, x\n",
        "(If at the end of the iteration, no such root is found, display a message that root is not found in the search space) \n",
        "```"
      ],
      "metadata": {
        "id": "aiSKaltFA2Ui"
      }
    },
    {
      "cell_type": "code",
      "source": [
        "# Input x in positive integer\n",
        "def cube_root(x): \n"
      ],
      "metadata": {
        "id": "qLy-hoW8b8JV"
      },
      "execution_count": null,
      "outputs": []
    },
    {
      "cell_type": "code",
      "source": [
        "# create your own test case here"
      ],
      "metadata": {
        "id": "T1DqGoWRBpCM"
      },
      "execution_count": null,
      "outputs": []
    },
    {
      "cell_type": "markdown",
      "source": [
        "## Practice Question 4c\n",
        "\n",
        "Write your answers as comments.\n",
        "1. Which algorithm for `cube_root` has lower number of iterations? \n",
        "2. In what situation that the root is not found in the search space? In such situation, what can you do to find the root? "
      ],
      "metadata": {
        "id": "Kc6T_jpiBkOK"
      }
    },
    {
      "cell_type": "code",
      "source": [],
      "metadata": {
        "id": "ZqBy-DWWznKX"
      },
      "execution_count": null,
      "outputs": []
    },
    {
      "cell_type": "markdown",
      "source": [
        "## Practice Question 5 Cube root\n",
        "\n",
        "Write a Python function `cube_root` that takes in an integer $x$ and a number `step_size` and return the cube root of $x$ using exhaustive enumeration: \n",
        "\n",
        "1. If $x$ is positive, searching the root starting from 1 to x, with step size equal to `step_size`.\n",
        "In other words, for each $r$ in the following interval $$[1, 1+\\text{step_size}, 1+2\\,\\text{step_size}, 1+3\\,\\text{step_size}, \\ldots, ..., 1+k\\,\\text{step_size}],$$ where $k$ is the maximum integer such that $1+k\\text{step_size}$ is less than or equal to $x$; check if $r$ is a cube root of $x$. \n",
        "\n",
        "2. If $x$ is negative, searching the root starting from -x to -1, with step size equal to `step_size`.\n",
        "In other words, for each $r$ in the following interval $$[-x, -x+\\text{step_size}, -x+2\\,\\text{step_size}, -x+3\\,\\text{step_size}, \\ldots, ..., -x+k\\,\\text{step_size}],$$ where $k$ is the maximum integer such that $-x+k\\,\\text{step_size}$ is less than or equal to $-1$; check if $r$ is a cube root of $x$. \n",
        "\n",
        "It is sufficient to return the value $r$ such that $r^3$ is \"close\" to $x$ within 0.01, that is $|r^3-x|<0.01$.\n",
        "\n",
        "Remark: You are not allowed to use any built-in function from any other library such as `math` library. \n",
        "\n",
        "Hint: You don't have to separate the implementation in two cases. Instead, find the cube root of `abs(x)`. The cube root is the negative cube root of `abs(x)` if `x` is negative."
      ],
      "metadata": {
        "id": "2W754aWcxxH5"
      }
    },
    {
      "cell_type": "code",
      "source": [
        "# Input x is an integer\n",
        "def cube_root(x, step_size): \n",
        "  "
      ],
      "metadata": {
        "id": "XtpM7BQqyHUT"
      },
      "execution_count": null,
      "outputs": []
    },
    {
      "cell_type": "code",
      "source": [
        "# create your own test case here"
      ],
      "metadata": {
        "id": "9Kmjll5ZyBE6"
      },
      "execution_count": null,
      "outputs": []
    }
  ]
}