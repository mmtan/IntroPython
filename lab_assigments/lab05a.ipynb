{
  "nbformat": 4,
  "nbformat_minor": 0,
  "metadata": {
    "colab": {
      "provenance": [],
      "collapsed_sections": []
    },
    "kernelspec": {
      "name": "python3",
      "display_name": "Python 3"
    },
    "language_info": {
      "name": "python"
    }
  },
  "cells": [
    {
      "cell_type": "markdown",
      "source": [
        "# CSCI 1200 Introduction to Computers and Programming Fall 2022\n",
        "#### Instructor: Ming Ming Tan, UCAs: TBA\n",
        "### Lab 5a, ungraded\n",
        "\n",
        "The purpose of this lab is to:\n",
        "\n",
        "* Practice python basics: expressions, boolean expression, conditional statements and iterations.\n",
        "* Practice developing your own algorithms to solve more complex problems\n",
        " \n",
        "\n",
        "**This lab is not graded. However, you are asked to submit the lab by following the instructions below.**\n",
        "\n",
        "Please consult with your UCAs during the lab sessions if you need help completing this lab. \n"
      ],
      "metadata": {
        "id": "zrbZT5Z9c892"
      }
    },
    {
      "cell_type": "markdown",
      "source": [
        "# Submission information\n",
        "1. <font color='red'>Before you start working on this lab, rename the file to **“lab5a_\\<lastName without space>_\\<first letter of your first name\\>.ipynb”**. For example, a student with last name Smith and first name James will rename “lab5a.ipynb” to “lab5a_smithJ.ipynb”.</font>\n",
        "2. Before you turn this assignment in, make sure everything runs as expected. Go to the menu bar, click **Runtime -> Restart and run all** and check if your code executes as expected. \n",
        "3. You can discuss with others regarding the assignment but **all work must be your own.**\n",
        "4. Note: There will be interview grading conducted throughout the semester. Selected students will be informed via email regarding the interview grading. Interview grading is when you meet with the instructional staff to discuss a assignment that you have turned in. You will be asked to explain certain aspects of the work you did, how you would go about improving your solution, and other conceptual questions relating to the homework. \n",
        "5. To submit the assignment, do the following: \n",
        "    1. For assignment, locate the Share button on the top right corner, share the notebook with your respective graders’ google accounts. \n",
        "    2. For lab and assignment, Click File -> Download .ipynb to download the assignment.\n",
        "    3. Submit the downloaded .ipynb file to D2L.\n",
        "\n",
        "\n",
        "It is your responsibility to ensure that your submission follows the procedure detailed above.\n",
        "\n",
        "Please consult your UCAs for any queries regarding the submission procedure.\n"
      ],
      "metadata": {
        "id": "G5ODwsxfdrVQ"
      }
    },
    {
      "cell_type": "markdown",
      "source": [
        "## Remarks: \n",
        "Solutions to the practice questions can be written using comment. For examples:\n",
        "* if the solution to Practice Question 1 is 16, then you will write in the code block\n",
        "\n",
        "```\n",
        "# The solution is 16\n",
        "````\n",
        "\n",
        "* if the solution to Practice Question 2 is 35 and 9, then you will write in the code block \n",
        "\n",
        "```\n",
        "# The solutions are 35 and 9\n",
        "```\n",
        "\n",
        "There is no strict format for solutions, just write your solutions as comment (To write as comment, starts with #). "
      ],
      "metadata": {
        "id": "h2XJymmJd4e5"
      }
    },
    {
      "cell_type": "markdown",
      "source": [
        "## Practice Question 1\n",
        "\n",
        "Consider the following function. \n",
        "\n",
        "\n",
        "    def floor_square_diff(x,y): \n",
        "      return (x**2-y**2)//2\n",
        "What is the value of `floor_square_diff(5,3)`?"
      ],
      "metadata": {
        "id": "inaKwg9vcwN7"
      }
    },
    {
      "cell_type": "code",
      "source": [],
      "metadata": {
        "id": "5Hlj-hfZeHjg"
      },
      "execution_count": null,
      "outputs": []
    },
    {
      "cell_type": "markdown",
      "source": [
        "## Practice Question 2\n",
        "Assume an `int` variable named `num` is already initialized to some value. \n",
        "Which of the following values of `num` will result in `num%3==0 or num%7==0`  be evaluated to `True`? Select all that apply.\n",
        "\n",
        "[ ] 35\n",
        "[ ] 9\n",
        "[ ] 21\n",
        "[ ] 15"
      ],
      "metadata": {
        "id": "mUvD-C5UdRxC"
      }
    },
    {
      "cell_type": "code",
      "source": [],
      "metadata": {
        "id": "VKDj07hPeISm"
      },
      "execution_count": null,
      "outputs": []
    },
    {
      "cell_type": "markdown",
      "source": [
        "## Practice Question 3\n",
        "Consider the following function.\n",
        " \n",
        "\n",
        "    def test(n): \n",
        "      if n<0 or n>100: \n",
        "        return -1\n",
        "      elif n<50: \n",
        "        return n/2\n",
        "      else: \n",
        "        return (n-50)/2\n",
        "    \n",
        "What is the output of: \n",
        "(i) `test(-1)`\n",
        "\n",
        "(ii) `test(49)`\n",
        "\n",
        "(iii) `test(50)`\n",
        "\n",
        "(iv) `test(51)`\n",
        "\n",
        "(v) `test(100)`\n",
        "\n",
        "(vi) `test(101)`"
      ],
      "metadata": {
        "id": "enbr8pvKdIWu"
      }
    },
    {
      "cell_type": "code",
      "source": [],
      "metadata": {
        "id": "5oxvRPy0eMWB"
      },
      "execution_count": null,
      "outputs": []
    },
    {
      "cell_type": "markdown",
      "source": [
        "## Practice Question 4 \n",
        "Consider the following function `test` that takes a string `text` as input:\n",
        "\n",
        "    def test(text): \n",
        "      if text[0]==text[-1]: \n",
        "        return text[:-1]\n",
        "      else: \n",
        "        return text\n",
        "(i) What is the value of `test(\"aba\")`? \n",
        "\n",
        "(ii) What is the value of `test(\"ab\")`?\n",
        "\n",
        "(iii) What is the value of `test(\"abca\")`?"
      ],
      "metadata": {
        "id": "dE2ZTIMgdkmx"
      }
    },
    {
      "cell_type": "code",
      "source": [],
      "metadata": {
        "id": "uBJbWuTqeNPU"
      },
      "execution_count": null,
      "outputs": []
    },
    {
      "cell_type": "markdown",
      "source": [
        "## Practice Question 5\n",
        "\n",
        "Consider the following program:\n",
        "\n",
        "    password = \"\"\n",
        "    while (len(password)<12 and len(password)%2==0): \n",
        "      password = input(\"Enter a new password\")\n",
        "\n",
        "In this program,  the user will be prompted to make an input. Choose all that apply. \n",
        "\n",
        "[ ] (a) If user’s input is “123456123456”, the loop will terminate. \n",
        "\n",
        "[ ] (b) If user’s input is “12345612345”, the loop will terminate.\n",
        "\n",
        "[ ] (c) If user’s input is “1234561234567”, the loop will terminate.\n",
        "\n",
        "[ ] (d) This program can be rewritten using a for loop. "
      ],
      "metadata": {
        "id": "NZG6rt7wduXA"
      }
    },
    {
      "cell_type": "code",
      "source": [],
      "metadata": {
        "id": "B_pH8enveOCW"
      },
      "execution_count": null,
      "outputs": []
    },
    {
      "cell_type": "markdown",
      "source": [
        "---"
      ],
      "metadata": {
        "id": "jwU2oG5vd0Ma"
      }
    },
    {
      "cell_type": "markdown",
      "source": [
        "## Question 1\n",
        "\n",
        "Assume an `int` variable named `num` is already initialized to some value. \n",
        "Write a statement that will evaluate to `True` only if `num` is not divisible by 10 and is not divisible by 2. "
      ],
      "metadata": {
        "id": "K6sZsWPVZ7Mi"
      }
    },
    {
      "cell_type": "code",
      "source": [
        "num = # put some value\n",
        "# Your code here"
      ],
      "metadata": {
        "id": "1Fhn7OaMZ_uX"
      },
      "execution_count": null,
      "outputs": []
    },
    {
      "cell_type": "markdown",
      "source": [
        "## Question 2: Floor Mean Square Diff\n",
        "Complete the following function `floor_mean_square_diff` that takes two numbers `x` and `y` and returns the value $\\lfloor {\\frac{\\sqrt{x^2-y^2}}{2}}\\rfloor$.\n",
        "      \n"
      ],
      "metadata": {
        "id": "LxUDpRXZZtMM"
      }
    },
    {
      "cell_type": "code",
      "source": [
        "def floor_mean_square_diff(x,y):\n",
        "  "
      ],
      "metadata": {
        "id": "s7jkGctSZz-Z"
      },
      "execution_count": null,
      "outputs": []
    },
    {
      "cell_type": "markdown",
      "source": [
        "## Question 3: Leaky relu\n",
        "Complete the following function leaky_relu that takes a parameter x (a number) as input and returns the $0.01x$ if x is negative else returns x."
      ],
      "metadata": {
        "id": "vO0-PdK3aOqX"
      }
    },
    {
      "cell_type": "code",
      "source": [
        "def leaky_relu(x): \n",
        "\n"
      ],
      "metadata": {
        "id": "FEVdxnOaaKls"
      },
      "execution_count": null,
      "outputs": []
    },
    {
      "cell_type": "markdown",
      "source": [
        "## Question 4: Pluralize\n",
        "Complete the following function `pluralize` that takes a string `text` as input and does the following: \n",
        "\n",
        "- if `text` ends with `\"s\"` or `\"o\"`, add `\"es\"` to the end of `text` and return the resulted string,\n",
        "- if `text` ends with “y”, add “ies” to the end of `text` and return the resulted string,\n",
        "- otherwise, add `\"s\"` to the end of `text` and return the resulted string.\n",
        "\n",
        "For examples, \n",
        "`pluralize(\"potato\")` should return `\"potatoes\"`\n",
        "`pluralize(\"bus\")` should return `\"buses\"`\n",
        "`pluralize(``\"``city``\"``)` should return `\"``cities``\"`\n",
        "`pluralize(\"cat\")` should return `\"cats\"`"
      ],
      "metadata": {
        "id": "7SJUlB2_aaPh"
      }
    },
    {
      "cell_type": "code",
      "source": [
        "def pluralize(text): \n",
        "  \n"
      ],
      "metadata": {
        "id": "wIIEpyXdaZ7M"
      },
      "execution_count": null,
      "outputs": []
    },
    {
      "cell_type": "markdown",
      "source": [
        "## Question 5: SumDigits\n",
        "Complete the following function `sumDigits` that takes an input string `text` that contains characters from “0” to “9” and “A” to “F”.\n",
        "Each such character represents a number. \n",
        "\n",
        "- “0” represents 0, “1” represents 1, …, “9” represents 9\n",
        "-  “A” represets 10, “B” represents 11, …, “F” represents 15. \n",
        "\n",
        "The function should return the sum of all numbers represented by each character in `text`. \n",
        "For example: \n",
        "`sumDigits(\"124A\")` should return 1+2+4+10 which is 17.\n",
        "You may use the function `int` ,`ord`, `chr` and the operator `in`, but NOT other method such as `isdigit()` etc."
      ],
      "metadata": {
        "id": "nFL4bdnQZdwZ"
      }
    },
    {
      "cell_type": "code",
      "source": [
        "def sumDigits(text): \n",
        "  "
      ],
      "metadata": {
        "id": "wKDI6h53ZX9f"
      },
      "execution_count": null,
      "outputs": []
    },
    {
      "cell_type": "markdown",
      "source": [
        "## Question 6: Verify Check Digit\n",
        "Complete the following function `verifyCheckDigit` that takes an input string `text` and an integer `check_digit`. The string `text` contains characters from “0” to “9” and “A” to “F”.\n",
        "Each such character represents a number. \n",
        "\n",
        "- “0” represents 0, “1” represents 1, …, “9” represents 9\n",
        "-  “A” represets 10, “B” represents 11, …, “F” represents 15. \n",
        "\n",
        "The function should return `True` if the sum of all numbers represented by each character in `text` is equal to `check_digit`, else return `False`.\n",
        "\n",
        "For example: \n",
        "`verifyCheckDigit(\"124A\", 17)` should return `True` since the sum of all numbers represented by \"124A\" is 1+2+4+10 which is 17.\n",
        "You may use the function `int` ,`ord`, `chr` and the operator `in`, but NOT other method such as `isdigit()` etc."
      ],
      "metadata": {
        "id": "4h_EXYyWbYiy"
      }
    },
    {
      "cell_type": "code",
      "source": [
        "def verifyCheckDigit(text, check_digit): \n"
      ],
      "metadata": {
        "id": "niGCeu9sapJc"
      },
      "execution_count": null,
      "outputs": []
    }
  ]
}