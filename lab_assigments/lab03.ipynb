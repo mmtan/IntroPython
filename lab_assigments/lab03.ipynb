{
  "nbformat": 4,
  "nbformat_minor": 0,
  "metadata": {
    "colab": {
      "provenance": [],
      "collapsed_sections": []
    },
    "kernelspec": {
      "name": "python3",
      "display_name": "Python 3"
    },
    "language_info": {
      "name": "python"
    }
  },
  "cells": [
    {
      "cell_type": "markdown",
      "source": [
        "# CSCI 1200 Introduction to Computers and Programming Fall 2022\n",
        "#### Instructor: Ming Ming Tan, UCAs: TBA\n",
        "### Lab 3, ungraded\n",
        "\n",
        "The purpose of this lab is to:\n",
        "\n",
        "* Work with strings\n",
        "* Practice writing if statements\n",
        " \n",
        "\n",
        "**This lab is not graded. However, you are asked to submit the lab by following the instructions below.**\n",
        "\n",
        "Please consult with your UCAs during the lab sessions if you need help completing this lab. \n"
      ],
      "metadata": {
        "id": "zrbZT5Z9c892"
      }
    },
    {
      "cell_type": "markdown",
      "source": [
        "# Submission information\n",
        "1. <font color='red'>Before you start working on this lab, rename the file to **“lab03_\\<lastName without space>_\\<first letter of your first name\\>.ipynb”**. For example, a student with last name Smith and first name James will rename “lab03.ipynb” to “lab03_smithJ.ipynb”.</font>\n",
        " \n",
        "3. Before you turn this assignment in, make sure everything runs as expected. Go to the menu bar, click **Runtime -> Restart and run all** and check if your code executes as expected. \n",
        "4. You can discuss with others regarding the assignment but all work must be your own.\n",
        "5. Note: There will be interview grading conducted throughout the semester. Selected students will be informed via email regarding the interview grading. Interview grading is when you meet with the instructional staff to discuss a assignment that you have turned in. You will be asked to explain certain aspects of the work you did, how you would go about improving your solution, and other conceptual questions relating to the homework. \n",
        "6. To submit the assignment, do the following: \n",
        "    1. For assignment, locate the Share button on the top right corner, share the notebook with your respective graders’ google accounts. \n",
        "    2. For lab and assignment, Click File -> Download .ipynb to download the assignment.\n",
        "    3. Submit the downloaded .ipynb file to D2L.\n",
        "\n",
        "\n",
        "It is your responsibility to ensure that your submission follows the procedure detailed above.\n",
        "\n",
        "Please consult your UCAs for any queries regarding the submission procedure.\n"
      ],
      "metadata": {
        "id": "G5ODwsxfdrVQ"
      }
    },
    {
      "cell_type": "markdown",
      "source": [
        "## Practice Question 1  (Discussed in the lecture)\n",
        "Assume an `int` variable named `num` is already initialized to some values.\n",
        "1. Write a statement that evaluates to `True` only if `num` is greater than $2^{20}$.\n",
        "2. Write a statement that evaluates to `True` only if `num` is even. \n",
        "3. Write a statement that evaluates to `True` only if `num` is even and is greater than $2^{20}$.\n",
        "4. Write a statement that evaluates to `True` only if `num` is divisible by 3 or divisible by 5. \n",
        "5. Write a statement that evaluates to `True` only if `num` is divisible by 3 or divisible by 5 but not divisible by both 3 and 5.\n",
        "\n",
        "In the following cell block, `num` is initialized to 1789. You should test your code by trying different values for `num`. \n"
      ],
      "metadata": {
        "id": "Ky9ARCIhgBTn"
      }
    },
    {
      "cell_type": "code",
      "source": [
        "num = 1789 "
      ],
      "metadata": {
        "id": "rCFbB_usRYnN"
      },
      "execution_count": null,
      "outputs": []
    },
    {
      "cell_type": "code",
      "execution_count": null,
      "metadata": {
        "id": "qgadbLj8bdNm"
      },
      "outputs": [],
      "source": [
        "# practice question 1.1\n",
        "num > 2**20 "
      ]
    },
    {
      "cell_type": "code",
      "source": [
        "# practice question 1.2\n",
        "# Your code here"
      ],
      "metadata": {
        "id": "aGJug-c3dpmW"
      },
      "execution_count": null,
      "outputs": []
    },
    {
      "cell_type": "code",
      "source": [
        "# practice question 1.3\n",
        "# Your code here"
      ],
      "metadata": {
        "id": "jHOnrOHgQ1Hj"
      },
      "execution_count": null,
      "outputs": []
    },
    {
      "cell_type": "code",
      "source": [
        "# practice question 1.4\n",
        "# Your code here"
      ],
      "metadata": {
        "id": "5IxKPQ5CQ0-v"
      },
      "execution_count": null,
      "outputs": []
    },
    {
      "cell_type": "code",
      "source": [
        "# practice question 1.5\n",
        "# Your code here"
      ],
      "metadata": {
        "id": "HrEx1zwBQ0vI"
      },
      "execution_count": null,
      "outputs": []
    },
    {
      "cell_type": "markdown",
      "source": [
        "## Practice Question 2  (Discussed in the lecture)\n",
        "1. Write a Python function `smallest` that takes a, b as input and print the smallest of the two inputs.\n",
        "2. Write a Python function `smallest` that takes a, b, c as input and print the smallest of the three inputs.\n",
        "\n",
        "Practice creating your own test cases to verify your code."
      ],
      "metadata": {
        "id": "8XFgsxatR6AD"
      }
    },
    {
      "cell_type": "code",
      "source": [
        "# practice question 2.1\n",
        "def smallest1(a,b):\n",
        "  # Your code here"
      ],
      "metadata": {
        "id": "gmJnuLEfRpvj"
      },
      "execution_count": null,
      "outputs": []
    },
    {
      "cell_type": "code",
      "source": [
        "# create your own test case here"
      ],
      "metadata": {
        "id": "x5Zv3YZUSwY4"
      },
      "execution_count": null,
      "outputs": []
    },
    {
      "cell_type": "code",
      "source": [
        "# practice question 2.2\n",
        "def smallest2(a,b,c):\n",
        "  # Your code here"
      ],
      "metadata": {
        "id": "UyFwhQuCSrKj"
      },
      "execution_count": null,
      "outputs": []
    },
    {
      "cell_type": "code",
      "source": [
        "# create your own test case here"
      ],
      "metadata": {
        "id": "m36SxfI7SzrT"
      },
      "execution_count": null,
      "outputs": []
    },
    {
      "cell_type": "markdown",
      "source": [
        "### Question 1: Qualify\n",
        "\n",
        "A student will not be allowed to sit in exam if his/her attendence is less than 75%.\n",
        "Write a Python function `qualify` that takes inputs `number_classes_attended` and `number_classes_held` and return `True` if the student is allowed to sit exam; otherwise return `False`."
      ],
      "metadata": {
        "id": "Jv1aT68xtyH4"
      }
    },
    {
      "cell_type": "code",
      "source": [
        "def qualify(number_classes_attended, number_classes_held): \n",
        "  \n",
        "  # Your code here\n",
        "  "
      ],
      "metadata": {
        "id": "d4gmHhTDIbZM"
      },
      "execution_count": null,
      "outputs": []
    },
    {
      "cell_type": "code",
      "source": [
        "qualify(3,13)==False"
      ],
      "metadata": {
        "id": "h9SPS0Z0LHF_"
      },
      "execution_count": null,
      "outputs": []
    },
    {
      "cell_type": "code",
      "source": [
        "qualify(6,13)==False"
      ],
      "metadata": {
        "id": "is5n2Q1iLSbd"
      },
      "execution_count": null,
      "outputs": []
    },
    {
      "cell_type": "code",
      "source": [
        "qualify(10,13)==True"
      ],
      "metadata": {
        "id": "gOSgt_03LVBm"
      },
      "execution_count": null,
      "outputs": []
    },
    {
      "cell_type": "code",
      "source": [
        "qualify(11,13)==True"
      ],
      "metadata": {
        "id": "xi3Yc0fHLlnV"
      },
      "execution_count": null,
      "outputs": []
    },
    {
      "cell_type": "code",
      "source": [
        "# create your own test case here, verify the result by using a external calculator\n"
      ],
      "metadata": {
        "id": "056XoZZrQBA_"
      },
      "execution_count": null,
      "outputs": []
    },
    {
      "cell_type": "markdown",
      "source": [
        "### Question 2: Absolute Value\n",
        "\n",
        "Write a Python function `absolute` that takes a number `num` and return the absolute value of `num`. \n",
        "\n",
        "Hint: If `num` is negative, then the absolute value of `num` is negative of `num`, otherwise, the absolute value of `num` is `num` itself.\n"
      ],
      "metadata": {
        "id": "O3vLCfG5PIVs"
      }
    },
    {
      "cell_type": "code",
      "source": [
        "def absolute(num): \n",
        "  \n",
        "  # Your code here\n",
        "  "
      ],
      "metadata": {
        "id": "heMJ45VWP1Re"
      },
      "execution_count": null,
      "outputs": []
    },
    {
      "cell_type": "code",
      "source": [
        "absolute(3)==3"
      ],
      "metadata": {
        "id": "fRH7ogsqP4fJ"
      },
      "execution_count": null,
      "outputs": []
    },
    {
      "cell_type": "code",
      "source": [
        "absolute(-3)==3"
      ],
      "metadata": {
        "id": "1sQn0PN7P7XR"
      },
      "execution_count": null,
      "outputs": []
    },
    {
      "cell_type": "code",
      "source": [
        "# create your own test case here\n",
        "# large value of num"
      ],
      "metadata": {
        "id": "rfBnEpLXP9VT"
      },
      "execution_count": null,
      "outputs": []
    },
    {
      "cell_type": "code",
      "source": [
        "# create your own test case here\n",
        "# extremely small value of num"
      ],
      "metadata": {
        "id": "n0Dv0TMmQHLx"
      },
      "execution_count": null,
      "outputs": []
    },
    {
      "cell_type": "markdown",
      "source": [
        "### Question 3: Fixed-length String (Disccused in the lecture)\n",
        "\n",
        "Right padding to a string means adding a given character at the end of a string to make it of the specified length. \n",
        "Write a Python function `format` that takes an input value `text` (a string), and a value `k` (an integer) and returns a new string `new_text` such that `new_text` has length `k` and \n",
        "\n",
        "*  if length of `text` is less than `k`, `new_text` is the resulting string after right padding text with “#” to achieve length of `k`.\n",
        "*  otherwise, `new_text`  is the substring of length `k` extracted from text started from the left.\n",
        "\n",
        "See the test cases for examples.\n"
      ],
      "metadata": {
        "id": "CGY-6hI3WjS2"
      }
    },
    {
      "cell_type": "code",
      "source": [
        "def format(text, k): \n",
        "  \n",
        "  # Your code here\n",
        "  "
      ],
      "metadata": {
        "id": "SRJKaeTk-5vu"
      },
      "execution_count": null,
      "outputs": []
    },
    {
      "cell_type": "code",
      "source": [
        "format(\"abcd\", 5) == \"abcd#\""
      ],
      "metadata": {
        "id": "F6NvtQV1-Jre"
      },
      "execution_count": null,
      "outputs": []
    },
    {
      "cell_type": "code",
      "source": [
        "format(\"abcd\", 15) == \"abcd###########\""
      ],
      "metadata": {
        "id": "lvWGxO0f-Rf_"
      },
      "execution_count": null,
      "outputs": []
    },
    {
      "cell_type": "code",
      "source": [
        "format(\"abcd\", 3) == \"abc\""
      ],
      "metadata": {
        "id": "cLbzd_8X-Xtq"
      },
      "execution_count": null,
      "outputs": []
    },
    {
      "cell_type": "code",
      "source": [
        "format(\"abcd\", 1) == \"a\""
      ],
      "metadata": {
        "id": "hwdIup7W-adc"
      },
      "execution_count": null,
      "outputs": []
    },
    {
      "cell_type": "markdown",
      "source": [
        "### Question 4: Forming Plural\n",
        "\n",
        "Create a Python function `plural` that returns the plural of a word given the following rules:\n",
        " - If the word ends with `s` or `h`, add `es` to the end.\n",
        " - If the word ends with a `y`, change it to `ies`\n",
        " - Otherwise, just add an `s` to the end of the word.\n",
        " \n",
        " You may assume that the last letter of the word is lowercase."
      ],
      "metadata": {
        "id": "pEwmLTQlTG1V"
      }
    },
    {
      "cell_type": "code",
      "source": [
        "def pluralize(w):\n",
        "    \n",
        "    # Your code here\n",
        "    "
      ],
      "metadata": {
        "id": "c89gRb3MTGEn"
      },
      "execution_count": null,
      "outputs": []
    },
    {
      "cell_type": "code",
      "source": [
        "pluralize('Fish') == 'Fishes'"
      ],
      "metadata": {
        "id": "2pWjp6RetUQY"
      },
      "execution_count": null,
      "outputs": []
    },
    {
      "cell_type": "code",
      "source": [
        "pluralize('Toad') == 'Toads'"
      ],
      "metadata": {
        "id": "Lq0EHcEmtct5"
      },
      "execution_count": null,
      "outputs": []
    },
    {
      "cell_type": "code",
      "source": [
        "pluralize('Fishy') == 'Fishies'"
      ],
      "metadata": {
        "id": "QHH7__vptcmL"
      },
      "execution_count": null,
      "outputs": []
    }
  ]
}